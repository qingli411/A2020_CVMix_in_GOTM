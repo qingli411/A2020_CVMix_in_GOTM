{
 "cells": [
  {
   "cell_type": "markdown",
   "metadata": {},
   "source": [
    "# Gotland Basin\n",
    "\n",
    "This notebook plots the vertical profiles of the simulated temperature at selected times when observations are available in the [Gotland deep](https://gotm.net/cases/gotland_deep/) test case."
   ]
  },
  {
   "cell_type": "code",
   "execution_count": null,
   "metadata": {},
   "outputs": [],
   "source": [
    "import os\n",
    "import sys\n",
    "import numpy as np\n",
    "import string\n",
    "import matplotlib.pyplot as plt\n",
    "# add the path of gotmtool\n",
    "sys.path.append(os.path.join(os.pardir, 'gotmtool'))\n",
    "from gotmtool import *"
   ]
  },
  {
   "cell_type": "markdown",
   "metadata": {},
   "source": [
    "## Load data\n",
    "\n",
    "First, store the information of the four simulations into lists and dictionaries."
   ]
  },
  {
   "cell_type": "code",
   "execution_count": null,
   "metadata": {},
   "outputs": [],
   "source": [
    "casenames = [\n",
    "    'GLS-C01A',\n",
    "    'KPP-CVMix',\n",
    "    'KPPLT-VR12',\n",
    "    'KPPLT-LF17',\n",
    "    ]\n",
    "\n",
    "colors = {\n",
    "    'GLS-C01A': 'tab:blue',\n",
    "    'KPP-CVMix': 'tab:olive',\n",
    "    'KPPLT-VR12': 'tab:orange',\n",
    "    'KPPLT-LF17': 'tab:red',\n",
    "    }\n",
    "\n",
    "casedir = os.path.join(os.pardir,'gotm', 'run', 'Gotland_wave')\n",
    "save_fig = True"
   ]
  },
  {
   "cell_type": "markdown",
   "metadata": {},
   "source": [
    "Load data into a dictionary."
   ]
  },
  {
   "cell_type": "code",
   "execution_count": null,
   "metadata": {},
   "outputs": [],
   "source": [
    "sims = {}\n",
    "dataset = {}\n",
    "for case in casenames:\n",
    "    sim = Simulation(path=os.path.join(casedir, case))\n",
    "    sims[case] = sim\n",
    "    dataset[case] = sim.load_data()"
   ]
  },
  {
   "cell_type": "markdown",
   "metadata": {},
   "source": [
    "Get the time when observation is available."
   ]
  },
  {
   "cell_type": "code",
   "execution_count": null,
   "metadata": {},
   "outputs": [],
   "source": [
    "# get the time when observation is available\n",
    "with open('gotland_obs_time.txt', 'r') as file:\n",
    "    time_str = file.read().replace('/','-')\n",
    "obs_time_str_list = time_str.split('\\n')[:-1]\n",
    "obs_time_list = [np.datetime64(ts) for ts in obs_time_str_list]"
   ]
  },
  {
   "cell_type": "code",
   "execution_count": null,
   "metadata": {},
   "outputs": [],
   "source": [
    "data    = dataset['KPP-CVMix']\n",
    "time    = data.time\n",
    "time_start = time[0]\n",
    "time_end = time[-1]\n",
    "pfllist = []\n",
    "for t in obs_time_list:\n",
    "    if t > time_start and t < time_end:\n",
    "        pfllist.append(t)"
   ]
  },
  {
   "cell_type": "markdown",
   "metadata": {},
   "source": [
    "# Figure 1\n",
    "\n",
    "Plot the vertical profiles of temperature and salinity when observations are available."
   ]
  },
  {
   "cell_type": "code",
   "execution_count": null,
   "metadata": {},
   "outputs": [],
   "source": [
    "data    = dataset['KPP-CVMix']\n",
    "tpfl_obs =  data.temp_obs[:,:,0,0]\n",
    "spfl_obs =  data.salt_obs[:,:,0,0]\n",
    "for i, t in enumerate(pfllist):\n",
    "    fig, axarr = plt.subplots(1,2, sharey='row')\n",
    "    tpfl_obs.sel(time=t, method='nearest').plot(y='z', ax=axarr[0], color='k',\n",
    "                  linewidth=1.5)\n",
    "    spfl_obs.sel(time=t, method='nearest').plot(y='z', ax=axarr[1], color='k',\n",
    "                  linewidth=1.5, label='Obs')\n",
    "    for case in casenames:\n",
    "        data = dataset[case]\n",
    "        tpfl = dataset[case].temp[:,:,0,0].sel(time=t, method='nearest')\n",
    "        tpfl.plot(y='z', ax=axarr[0], color=colors[case],\n",
    "                  linewidth=1.5, alpha=0.8)\n",
    "        spfl = dataset[case].salt[:,:,0,0].sel(time=t, method='nearest')\n",
    "        spfl.plot(y='z', ax=axarr[1], color=colors[case],\n",
    "                  linewidth=1.5, alpha=0.8, label=case)\n",
    "    axarr[1].legend(loc='lower left')\n",
    "    axarr[1].set_title('')\n",
    "    axarr[1].set_ylabel('')\n",
    "    if save_fig:\n",
    "        os.makedirs('gotland_wave_pfls', exist_ok=True)\n",
    "        figname = os.path.join('gotland_wave_pfls', 'gotland_wave_pfl_{}.pdf'.format(\n",
    "            str(pfllist[i]).replace(':','')))\n",
    "        fig.savefig(figname, dpi=300)  \n",
    "        plt.close(fig)\n",
    "    "
   ]
  },
  {
   "cell_type": "markdown",
   "metadata": {},
   "source": [
    "Show the time when observations are available."
   ]
  },
  {
   "cell_type": "code",
   "execution_count": null,
   "metadata": {},
   "outputs": [],
   "source": [
    "for i, t in enumerate(pfllist):\n",
    "    print('{}: {}'.format(i, str(t)))"
   ]
  },
  {
   "cell_type": "markdown",
   "metadata": {},
   "source": [
    "## Figure 2\n",
    "\n",
    "A comparison of the temperature profiles at Gotland between the observation (black) and GOTM simulations (colored) at selected times."
   ]
  },
  {
   "cell_type": "code",
   "execution_count": null,
   "metadata": {},
   "outputs": [],
   "source": [
    "tidxlist1 = [10, 14, 18, 20]\n",
    "tidxlist1_aux = [-1, 16, -1, 19]\n",
    "tidxlist2 = [21, 27, 28, 29]\n",
    "tidxlist2_aux = [-1, -1 , -1, -1]\n",
    "fig, axarr = plt.subplots(2, 4, sharey='row')\n",
    "fig.set_size_inches([8,6])\n",
    "\n",
    "data    = dataset['KPP-CVMix']\n",
    "tpfl_obs =  data.temp_obs[:,:,0,0]\n",
    "spfl_obs =  data.salt_obs[:,:,0,0]\n",
    "for i in np.arange(4):\n",
    "    t = pfllist[tidxlist1[i]]\n",
    "    tpfl_obs.sel(time=t, method='nearest').plot(y='z', ax=axarr[0,i], color='k',\n",
    "                  linewidth=1.5)\n",
    "    for case in casenames:\n",
    "        data = dataset[case]\n",
    "        tpfl = dataset[case].temp[:,:,0,0].sel(time=t, method='nearest')\n",
    "        tpfl.plot(y='z', ax=axarr[0,i], color=colors[case],\n",
    "                  linewidth=1.5, alpha=0.8)\n",
    "    if tidxlist1_aux[i] > 0:\n",
    "        t = pfllist[tidxlist1_aux[i]]\n",
    "        tpfl_obs.sel(time=t, method='nearest').plot(y='z', ax=axarr[0,i], color='k',\n",
    "                      linewidth=1.5, linestyle=':')\n",
    "        for case in casenames:\n",
    "            data = dataset[case]\n",
    "            tpfl = dataset[case].temp[:,:,0,0].sel(time=t, method='nearest')\n",
    "            tpfl.plot(y='z', ax=axarr[0,i], color=colors[case],\n",
    "                      linewidth=1.5, linestyle=':', alpha=0.8)\n",
    "        \n",
    "    t = pfllist[tidxlist2[i]]\n",
    "    tpfl_obs.sel(time=t, method='nearest').plot(y='z', ax=axarr[1,i], color='k',\n",
    "                  linewidth=1.5, label='Obs')\n",
    "    for case in casenames:\n",
    "        data = dataset[case]\n",
    "        tpfl = dataset[case].temp[:,:,0,0].sel(time=t, method='nearest')\n",
    "        tpfl.plot(y='z', ax=axarr[1,i], color=colors[case],\n",
    "                  linewidth=1.5, alpha=0.8, label=case)\n",
    "\n",
    "    if tidxlist2_aux[i] > 0:\n",
    "        t = pfllist[tidxlist2_aux[i]]\n",
    "        tpfl_obs.sel(time=t, method='nearest').plot(y='z', ax=axarr[1,i], color='k',\n",
    "                      linewidth=1.5, linestyle=':')\n",
    "        for case in casenames:\n",
    "            data = dataset[case]\n",
    "            tpfl = dataset[case].temp[:,:,0,0].sel(time=t, method='nearest')\n",
    "            tpfl.plot(y='z', ax=axarr[1,i], color=colors[case],\n",
    "                      linewidth=1.5, linestyle=':', alpha=0.8)\n",
    "\n",
    "axarr[1,0].legend(loc = 'lower left', fontsize=10, ncol=5,\n",
    "                  bbox_to_anchor=(-0.04, -0.5), framealpha=1)\n",
    "    \n",
    "for i in np.arange(2):\n",
    "    for j in np.arange(4):\n",
    "        k = i*4+j\n",
    "        ax = axarr[i,j]\n",
    "        ax.set_title('')\n",
    "        ax.set_xlabel('')\n",
    "        ax.set_ylabel('')\n",
    "        ax.set_ylim([-120,0])\n",
    "        if j < 2:\n",
    "            ax.text(0.05, 0.05, '('+string.ascii_lowercase[k]+')',\n",
    "                    transform=ax.transAxes, fontsize=12, va='bottom', ha='left')\n",
    "        else:\n",
    "            ax.text(0.95, 0.05, '('+string.ascii_lowercase[k]+')',\n",
    "                    transform=ax.transAxes, fontsize=12, va='bottom', ha='right')\n",
    "    axarr[i,0].set_ylabel('Depth (m)')\n",
    "    \n",
    "for j in np.arange(4):\n",
    "    axarr[0,j].set_title(str(pfllist[tidxlist1[j]])[:10])\n",
    "    axarr[0,j].set_xlabel('$T$ ($^\\circ$C)')\n",
    "    axarr[1,j].set_title(str(pfllist[tidxlist2[j]])[:10])\n",
    "    axarr[1,j].set_xlabel('$T$ ($^\\circ$C)')\n",
    "#     axarr[1,j].set_xlim([6.5,11])\n",
    "    \n",
    "if save_fig:\n",
    "    plt.subplots_adjust(top=0.93, bottom=0.18, right=0.95, hspace=0.45, wspace=0.15)\n",
    "    figname = 'gotland_wave_pfl.pdf'\n",
    "    fig.savefig(figname, dpi=300)"
   ]
  }
 ],
 "metadata": {
  "kernelspec": {
   "display_name": "Python 3",
   "language": "python",
   "name": "python3"
  },
  "language_info": {
   "codemirror_mode": {
    "name": "ipython",
    "version": 3
   },
   "file_extension": ".py",
   "mimetype": "text/x-python",
   "name": "python",
   "nbconvert_exporter": "python",
   "pygments_lexer": "ipython3",
   "version": "3.9.15"
  }
 },
 "nbformat": 4,
 "nbformat_minor": 4
}

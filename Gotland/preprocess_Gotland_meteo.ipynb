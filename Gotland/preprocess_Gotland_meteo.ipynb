{
 "cells": [
  {
   "cell_type": "markdown",
   "metadata": {},
   "source": [
    "# Meteo data at Gotland\n",
    "\n",
    "This notebook preprocess the meteo data at Gotland and convert the data from the netCDF format to the GOTM input format."
   ]
  },
  {
   "cell_type": "code",
   "execution_count": null,
   "metadata": {},
   "outputs": [],
   "source": [
    "import sys\n",
    "import os\n",
    "import numpy as np\n",
    "import xarray as xr\n",
    "import pandas as pd\n",
    "sys.path.append(os.path.join(os.pardir, 'gotmtool'))\n",
    "from gotmtool import *"
   ]
  },
  {
   "cell_type": "markdown",
   "metadata": {},
   "source": [
    "## Preprocess data"
   ]
  },
  {
   "cell_type": "code",
   "execution_count": null,
   "metadata": {},
   "outputs": [],
   "source": [
    "dataroot = os.path.join(os.environ['HOME'], 'data', 'Baltic_Sea')\n",
    "startdate = '1995-01-01'\n",
    "enddate = '2019-01-01'"
   ]
  },
  {
   "cell_type": "markdown",
   "metadata": {},
   "source": [
    "File `Gotland.yaml` contains the information of different variables for conversion. Loop over all vairables, process and save the data."
   ]
  },
  {
   "cell_type": "code",
   "execution_count": null,
   "metadata": {},
   "outputs": [],
   "source": [
    "yamlfile = 'Gotland.yaml'\n",
    "skip_value = 9999\n",
    "max_value = 1e10\n",
    "\n",
    "cfg = yaml_load(yamlfile)\n",
    "\n",
    "for var in cfg['variables']:\n",
    "    print(var)\n",
    "    fname = cfg['variables'][var]['filename']\n",
    "    vtype = cfg['variables'][var]['vartype']\n",
    "    oname = cfg['variables'][var]['outname']\n",
    "    ds = xr.load_dataset(os.path.join(dataroot, fname)).sel(time=slice(startdate, enddate))\n",
    "    time = ds.time.values\n",
    "    ntime = time.size\n",
    "    dttime = [pd.Timestamp(time[i]).to_pydatetime() for i in np.arange(ntime)]\n",
    "    if '_FillValue' in ds.attrs:\n",
    "        skipvalue = ds.attrs['_FillValue']\n",
    "    elif 'missing_value' in ds.attrs:\n",
    "        skipvalue = ds.attrs['missing_value']\n",
    "    else:\n",
    "        skipvalue = skip_value\n",
    "    if vtype == 'scalar':\n",
    "        # scalar variable\n",
    "        vname = cfg['variables'][var]['varname']\n",
    "        data = ds.data_vars[vname].values.squeeze()\n",
    "        data[data>max_value] = np.nan\n",
    "        dat_dump_ts(dttime, [data], oname, skip_value=skipvalue)\n",
    "    elif vtype == 'meteo':    \n",
    "        # meteorology data     \n",
    "        #  u10, v10, air pressure at 2m (Pa),     \n",
    "        #  air temperature at 2m (degC),     \n",
    "        #  relative(%)/specific(kg/kg) humidity (determined by hum_method),     \n",
    "        #  cloud cover     \n",
    "        vname_u10 = cfg['variables'][var]['varname_u10']    \n",
    "        vname_v10 = cfg['variables'][var]['varname_v10']    \n",
    "        vname_slp = cfg['variables'][var]['varname_slp']    \n",
    "        vname_sat = cfg['variables'][var]['varname_sat']    \n",
    "        vname_hum = cfg['variables'][var]['varname_hum']    \n",
    "        vname_cld = cfg['variables'][var]['varname_cld'] \n",
    "        u10 = ds.data_vars[vname_u10].values.squeeze()\n",
    "        v10 = ds.data_vars[vname_v10].values.squeeze()\n",
    "        slp = ds.data_vars[vname_slp].values.squeeze()\n",
    "        sat = ds.data_vars[vname_sat].values.squeeze()\n",
    "        hum = ds.data_vars[vname_hum].values.squeeze()\n",
    "        cld = ds.data_vars[vname_cld].values.squeeze()\n",
    "        dat_dump_ts(dttime, [u10, v10, slp, sat, hum, cld], oname, skip_value=skipvalue) "
   ]
  }
 ],
 "metadata": {
  "kernelspec": {
   "display_name": "Python 3",
   "language": "python",
   "name": "python3"
  },
  "language_info": {
   "codemirror_mode": {
    "name": "ipython",
    "version": 3
   },
   "file_extension": ".py",
   "mimetype": "text/x-python",
   "name": "python",
   "nbconvert_exporter": "python",
   "pygments_lexer": "ipython3",
   "version": "3.9.15"
  }
 },
 "nbformat": 4,
 "nbformat_minor": 4
}

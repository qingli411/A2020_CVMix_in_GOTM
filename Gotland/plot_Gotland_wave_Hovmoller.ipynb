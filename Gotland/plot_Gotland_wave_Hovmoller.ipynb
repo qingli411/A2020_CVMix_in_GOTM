{
 "cells": [
  {
   "cell_type": "markdown",
   "metadata": {},
   "source": [
    "# Gotland Basin\n",
    "\n",
    "This notebook plots the Hovmoller diagrams of the simulated temperature in the [Gotland deep](https://gotm.net/cases/gotland_deep/) test case. "
   ]
  },
  {
   "cell_type": "code",
   "execution_count": null,
   "metadata": {},
   "outputs": [],
   "source": [
    "import os\n",
    "import sys\n",
    "import numpy as np\n",
    "import string\n",
    "import matplotlib.pyplot as plt\n",
    "# add the path of gotmtool\n",
    "sys.path.append(os.path.join(os.pardir, 'gotmtool'))\n",
    "from gotmtool import *"
   ]
  },
  {
   "cell_type": "markdown",
   "metadata": {},
   "source": [
    "## Load data\n",
    "\n",
    "First, store the information of the four simulations into lists and dictionaries."
   ]
  },
  {
   "cell_type": "code",
   "execution_count": null,
   "metadata": {},
   "outputs": [],
   "source": [
    "casenames = [\n",
    "    'KPP-CVMix',\n",
    "    'KPPLT-VR12',\n",
    "    'KPPLT-LF17',\n",
    "    'GLS-C01A',\n",
    "    ]\n",
    "\n",
    "colors = {\n",
    "    'GLS-C01A': 'tab:blue',\n",
    "    'KPP-CVMix': 'tab:olive',\n",
    "    'KPPLT-VR12': 'tab:orange',\n",
    "    'KPPLT-LF17': 'tab:red',\n",
    "    }\n",
    "\n",
    "casedir = os.path.join(os.pardir,'gotm', 'run', 'Gotland_wave')\n",
    "save_fig = True"
   ]
  },
  {
   "cell_type": "markdown",
   "metadata": {},
   "source": [
    "Load data into a dictionary."
   ]
  },
  {
   "cell_type": "code",
   "execution_count": null,
   "metadata": {},
   "outputs": [],
   "source": [
    "sims = {}\n",
    "dataset = {}\n",
    "for case in casenames:\n",
    "    sim = Simulation(path=os.path.join(casedir, case))\n",
    "    sims[case] = sim\n",
    "    dataset[case] = sim.load_data()"
   ]
  },
  {
   "cell_type": "markdown",
   "metadata": {},
   "source": [
    "## Figure\n",
    "\n",
    "Hovmoller diagrams comparing the simulated temperature between the four vertical mixing schemes."
   ]
  },
  {
   "cell_type": "code",
   "execution_count": null,
   "metadata": {},
   "outputs": [],
   "source": [
    "fig, axarr = plt.subplots(4, sharex='col')\n",
    "fig.set_size_inches([8,6])\n",
    "\n",
    "data0 = dataset['KPP-CVMix'].temp[:,:,0,0]\n",
    "levels = np.linspace(2, 20, 91)\n",
    "im0 = data0.plot.contourf(ax=axarr[0], levels=levels, add_colorbar=False)\n",
    "# axarr[0].set_title(labels[0])\n",
    "levels_diff = np.linspace(-5, 5, 51)\n",
    "j = 0\n",
    "labels = ['KPP-CVMix']\n",
    "for case in casenames:\n",
    "    if case != 'KPP-CVMix':\n",
    "        j += 1\n",
    "        diff = dataset[case].temp[:,:,0,0] - data0\n",
    "        diff.attrs['long_name'] = '$\\Delta$ '+ data0.attrs['long_name']\n",
    "        diff.attrs['units'] = data0.attrs['units']\n",
    "        im1 = diff.plot.contourf(ax=axarr[j], levels=levels_diff, add_colorbar=False)\n",
    "        labels.append(case+' $-$ KPP-CVMix')\n",
    "\n",
    "colors = ['w', 'k', 'k', 'k']\n",
    "for j in np.arange(4):\n",
    "    ax = axarr[j]\n",
    "    ax.set_ylim([-100,0])\n",
    "    ax.set_ylabel('Depth (m)')\n",
    "    ax.set_xlabel('')\n",
    "    ax.set_title('')\n",
    "    ax.text(0.02, 0.05, '('+string.ascii_lowercase[j]+') '+labels[j],\n",
    "            transform=ax.transAxes, color=colors[j],\n",
    "            va='bottom', ha='left')\n",
    "    \n",
    "plt.subplots_adjust(top=0.96, bottom=0.12, right=0.85, hspace=0.2, wspace=0.15)\n",
    "\n",
    "label_str = '$T$ ($^\\circ$C)'\n",
    "cax0 = plt.axes([0.8, 0.55, 0.1, 0.4])\n",
    "cax0.set_visible(False)\n",
    "cb0 = plt.colorbar(im0, ax=cax0)\n",
    "cb0.formatter.set_powerlimits((-2, 2)) \n",
    "cb0.update_ticks()\n",
    "cb0.set_label(label_str)\n",
    "cax1 = plt.axes([0.8, 0.12, 0.1, 0.4])\n",
    "cax1.set_visible(False)\n",
    "cb1 = plt.colorbar(im1, ax=cax1)\n",
    "cb1.formatter.set_powerlimits((-2, 2)) \n",
    "cb1.update_ticks()\n",
    "cb1.set_label(r'$\\Delta$ '+label_str)\n",
    "\n",
    "if save_fig:\n",
    "    figname = 'gotland_wave_hovmoller.pdf'\n",
    "    fig.savefig(figname, dpi=300)"
   ]
  }
 ],
 "metadata": {
  "kernelspec": {
   "display_name": "Python 3",
   "language": "python",
   "name": "python3"
  },
  "language_info": {
   "codemirror_mode": {
    "name": "ipython",
    "version": 3
   },
   "file_extension": ".py",
   "mimetype": "text/x-python",
   "name": "python",
   "nbconvert_exporter": "python",
   "pygments_lexer": "ipython3",
   "version": "3.9.15"
  }
 },
 "nbformat": 4,
 "nbformat_minor": 4
}

{
 "cells": [
  {
   "cell_type": "markdown",
   "metadata": {},
   "source": [
    "# Estimating the full Stokes drift profile at Gotland\n",
    "\n",
    "The surface Stokes drift is available at Gotland from the [CMEMS WAM hindcast of the Beltic Sea](https://resources.marine.copernicus.eu/?option=com_csw&view=details&product_id=BALTICSEA_ANALYSIS_FORECAST_WAV_003_010).\n",
    "To estimate the Stokes drift profile, we can assume a profile shape based on some empirical wave spectrum (e.g., [Breivik et al, 2014](https://doi.org/10.1175/JPO-D-14-0020.1); [2016](https://doi.org/10.1016/j.ocemod.2016.01.005), [Li et al., 2017](https://doi.org/10.1016/j.ocemod.2017.03.016)).\n",
    "Then we need to estimate the vertically integrated Stokes drift (or Stokes transport) from availble wave parameters. \n",
    "\n",
    "Availbale wave parameters:\n",
    "- Significant wave height, $H_{m0}=4m_0^{1/2}$, where $m_0$ is the zeroth frequency moment of the wave spectrum.\n",
    "- Mean period from the second frequency moment of the wave spectrum, $T_{m02}=(m_0/m_2)^{1/2}$\n",
    "\n",
    "The Stokes transport is proportional to the first frequency moment of the wave spectrum,\n",
    "$$\n",
    "V^S = 2\\pi c_1 m_1 = \\pi c_1 H_{m0}^2/8 T_{m01},\n",
    "$$\n",
    "where $T_{m01}$ is the mean wave period from the first freqnency moment of the wave spectrum, $T_{m01}=m_0/m_1$, and $c_1\\le1$ is a magnitude loss coefficent to accounting for the directional spreading effects.\n",
    "Assuming the the Pierson–Moskowitz spectrum we have the relation between $T_{m01}\\approx 1.086 T_{m02}$ ([Webb et al., 2011](https://doi.org/10.1016/j.ocemod.2011.08.007)).\n",
    "Then we can follow the approach of [Li et al., 2017](https://doi.org/10.1016/j.ocemod.2017.03.016) to estimate the Stokes drift profile.\n",
    "With better constraints of the surface Stokes drift and the significant wave height and mean period, we expect better estimation of the Stokes drift profile than [Li et al., 2017](https://doi.org/10.1016/j.ocemod.2017.03.016), in which both the surface Stokes drift and Stokes transport are estimated from the wind."
   ]
  },
  {
   "cell_type": "code",
   "execution_count": null,
   "metadata": {},
   "outputs": [],
   "source": [
    "import sys\n",
    "import os\n",
    "import numpy as np\n",
    "import xarray as xr\n",
    "import pandas as pd\n",
    "from scipy import special\n",
    "import matplotlib.pyplot as plt\n",
    "sys.path.append(os.path.join(os.pardir, 'gotmtool'))\n",
    "from gotmtool import *"
   ]
  },
  {
   "cell_type": "markdown",
   "metadata": {},
   "source": [
    "### Load data"
   ]
  },
  {
   "cell_type": "code",
   "execution_count": null,
   "metadata": {},
   "outputs": [],
   "source": [
    "datapath_wav = os.path.join(os.environ['HOME'], 'data', 'Baltic_Sea', 'GotlandBasin.waves.nc') "
   ]
  },
  {
   "cell_type": "code",
   "execution_count": null,
   "metadata": {},
   "outputs": [],
   "source": [
    "startdate = '1997-01-01'\n",
    "enddate = '2002-01-01'"
   ]
  },
  {
   "cell_type": "code",
   "execution_count": null,
   "metadata": {},
   "outputs": [],
   "source": [
    "ds_wav = xr.open_dataset(datapath_wav).sel(time=slice(startdate, enddate))"
   ]
  },
  {
   "cell_type": "code",
   "execution_count": null,
   "metadata": {},
   "outputs": [],
   "source": [
    "time = ds_wav.time.values\n",
    "ntime = time.size"
   ]
  },
  {
   "cell_type": "code",
   "execution_count": null,
   "metadata": {},
   "outputs": [],
   "source": [
    "# wave variables\n",
    "Hm0 = ds_wav.data_vars['VHM0'].values.squeeze()\n",
    "Tm02 = ds_wav.data_vars['VTM02'].values.squeeze()\n",
    "us0x = ds_wav.data_vars['VSDX'].values.squeeze()\n",
    "us0y = ds_wav.data_vars['VSDY'].values.squeeze()\n",
    "us0 = xr.ufuncs.sqrt(us0x**2+us0y**2)"
   ]
  },
  {
   "cell_type": "markdown",
   "metadata": {},
   "source": [
    "### Vertical grid"
   ]
  },
  {
   "cell_type": "code",
   "execution_count": null,
   "metadata": {},
   "outputs": [],
   "source": [
    "zi = -np.linspace(1, 32, 32)\n",
    "nz = zi.size\n",
    "dz = np.zeros_like(zi)\n",
    "z = np.zeros(nz)\n",
    "z[0] = 0.5*zi[0]\n",
    "z[1:] = 0.5*(zi[:-1]+zi[1:])"
   ]
  },
  {
   "cell_type": "markdown",
   "metadata": {},
   "source": [
    "### Compute Stokes drift profile"
   ]
  },
  {
   "cell_type": "code",
   "execution_count": null,
   "metadata": {},
   "outputs": [],
   "source": [
    "# Stokes transport\n",
    "c1 = 0.698\n",
    "VS = np.pi*c1*Hm0**2/8./Tm02/1.086\n",
    "ds = VS/us0\n",
    "kp = 0.176*us0/VS\n",
    "kps = 2.56*kp\n",
    "def T1(k, z):\n",
    "    return np.exp(2*k*z)\n",
    "def T2(k, z):\n",
    "    return np.sqrt(2.*np.pi*k*np.abs(z))*special.erfc(np.sqrt(2*k*np.abs(z)))\n",
    "def stokes_drift_profile_srf(kp, kps, z):\n",
    "    z0 = np.abs(z)\n",
    "    r1 = (0.151/kp/z0-0.84)*(1.-T1(kp, -z0))\n",
    "    r2 = -(0.84+0.0591/kp/z0)*T2(kp, z0)\n",
    "    r3 = (0.0632/kps/z0+0.125)*(1.-T1(kps, -z0))\n",
    "    r4 = (0.125+.0946/kps/z0)*T2(kps, z0)\n",
    "    return 0.715+r1+r2+r3+r4\n",
    "ustokes = np.zeros([ntime, nz])\n",
    "vstokes = np.zeros([ntime, nz])\n",
    "stokes_srf = np.zeros([ntime, nz])\n",
    "for i in np.arange(nz):\n",
    "    stokes_srf[:,i] = stokes_drift_profile_srf(kp, kps, zi[i])\n",
    "ustokes[:,0] = us0x*stokes_srf[:,0]\n",
    "vstokes[:,0] = us0y*stokes_srf[:,0]\n",
    "for i in np.arange(1, nz):\n",
    "    tmp = (stokes_srf[:,i-1]*zi[i-1]-stokes_srf[:,i]*zi[i])/(zi[i-1]-zi[i])\n",
    "    ustokes[:,i] = us0x*tmp\n",
    "    vstokes[:,i] = us0y*tmp\n",
    "\n"
   ]
  },
  {
   "cell_type": "markdown",
   "metadata": {},
   "source": [
    "### Convert time from `numpy.datetime64` to `datetime.datetime`"
   ]
  },
  {
   "cell_type": "code",
   "execution_count": null,
   "metadata": {},
   "outputs": [],
   "source": [
    "dttime = [pd.Timestamp(time[i]).to_pydatetime() for i in np.arange(ntime)]"
   ]
  },
  {
   "cell_type": "markdown",
   "metadata": {},
   "source": [
    "### Save Stokes drift profile"
   ]
  },
  {
   "cell_type": "code",
   "execution_count": null,
   "metadata": {},
   "outputs": [],
   "source": [
    "dat_dump_pfl(dttime, z, [ustokes, vstokes], 'us_prof.dat')"
   ]
  },
  {
   "cell_type": "markdown",
   "metadata": {},
   "source": [
    "### Save surface Stokes drift and decay depth"
   ]
  },
  {
   "cell_type": "code",
   "execution_count": null,
   "metadata": {},
   "outputs": [],
   "source": [
    "dat_dump_ts(dttime, [us0x, us0y, ds], 'us_surface.dat') "
   ]
  }
 ],
 "metadata": {
  "kernelspec": {
   "display_name": "Python 3",
   "language": "python",
   "name": "python3"
  },
  "language_info": {
   "codemirror_mode": {
    "name": "ipython",
    "version": 3
   },
   "file_extension": ".py",
   "mimetype": "text/x-python",
   "name": "python",
   "nbconvert_exporter": "python",
   "pygments_lexer": "ipython3",
   "version": "3.9.15"
  }
 },
 "nbformat": 4,
 "nbformat_minor": 4
}

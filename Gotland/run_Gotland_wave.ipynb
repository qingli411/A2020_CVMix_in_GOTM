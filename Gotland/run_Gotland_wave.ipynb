{
 "cells": [
  {
   "cell_type": "markdown",
   "metadata": {},
   "source": [
    "# Gotland\n",
    "\n",
    "This notebook runs [GOTM](https://gotm.net/) using the [Gotland deep](https://gotm.net/cases/gotland_deep/) test case. \n",
    "\n",
    "Run the case with four turbulence closure schemes:\n",
    "\n",
    "- GLS-C01A: The generic length scale ([Umlauf and Burchard, 2003](https://doi.org/10.1357/002224003322005087)) model in the $k$-$\\epsilon$ formulation with the weak-equilibrium stability function by [Canuto et al., 2001](https://doi.org/10.1175/1520-0485(2001)031%3C1413:OTPIOP%3E2.0.CO;2) (C01A).\n",
    "\n",
    "- Three variants of KPP via [CVMix](http://cvmix.github.io):\n",
    "    - KPP-CVMix ([Large et al., 1994](https://doi.org/10.1029/94RG01872), [Griffies et al., 2015](https://github.com/CVMix/CVMix-description/raw/master/cvmix.pdf))\n",
    "    - KPPLT-VR12 ([Li et al., 2016](https://doi.org/10.1016%2Fj.ocemod.2015.07.020))\n",
    "    - KPPLT-LF17 ([Li and Fox-Kemper, 2017](https://doi.org/10.1175%2FJPO-D-17-0085.1))\n",
    "    \n",
    "Stokes drift profiles are computed in a similar way as in [Li et al., 2017](https://doi.org/10.1016/j.ocemod.2017.03.016), with constraints of wave variables from a wave hindcase simulation."
   ]
  },
  {
   "cell_type": "code",
   "execution_count": null,
   "metadata": {},
   "outputs": [],
   "source": [
    "import os\n",
    "import sys\n",
    "import copy\n",
    "import numpy as np\n",
    "import matplotlib.pyplot as plt\n",
    "# add the path of gotmtool\n",
    "sys.path.append(os.path.join(os.pardir, 'gotmtool'))\n",
    "from gotmtool import *"
   ]
  },
  {
   "cell_type": "markdown",
   "metadata": {},
   "source": [
    "## Create a model\n",
    "Create a model with environment file `../gotmtool/.gotm_env.yaml`, which is created by `gotm_env_init.py`. "
   ]
  },
  {
   "cell_type": "code",
   "execution_count": null,
   "metadata": {},
   "outputs": [],
   "source": [
    "m = Model(name='Gotland_wave', environ=os.path.join(os.pardir, 'gotmtool', '.gotm_env.yaml'))"
   ]
  },
  {
   "cell_type": "markdown",
   "metadata": {},
   "source": [
    "Take a look at what are defined in the environment file."
   ]
  },
  {
   "cell_type": "code",
   "execution_count": null,
   "metadata": {},
   "outputs": [],
   "source": [
    "for key in m.environ:\n",
    "    print('{:>15s}: {}'.format(key, m.environ[key]) )"
   ]
  },
  {
   "cell_type": "markdown",
   "metadata": {},
   "source": [
    "## Build the model"
   ]
  },
  {
   "cell_type": "code",
   "execution_count": null,
   "metadata": {},
   "outputs": [],
   "source": [
    "%%time\n",
    "m.build()"
   ]
  },
  {
   "cell_type": "markdown",
   "metadata": {},
   "source": [
    "## Configuration\n",
    "Initialize the GOTM configuration"
   ]
  },
  {
   "cell_type": "code",
   "execution_count": null,
   "metadata": {},
   "outputs": [],
   "source": [
    "cfg = m.init_config()"
   ]
  },
  {
   "cell_type": "markdown",
   "metadata": {},
   "source": [
    "Update the configuration"
   ]
  },
  {
   "cell_type": "code",
   "execution_count": null,
   "metadata": {},
   "outputs": [],
   "source": [
    "# setup\n",
    "title = 'Gotland Basin'\n",
    "nlev = 250\n",
    "cfg['title'] = title\n",
    "cfg['location']['name'] = 'Station 271'\n",
    "cfg['location']['latitude'] = 57.3\n",
    "cfg['location']['longitude'] = 20.0\n",
    "cfg['location']['depth'] = 250.0\n",
    "cfg['time']['start'] = '1997-01-01 00:00:00'\n",
    "cfg['time']['stop']  = '2002-01-01 00:00:00'\n",
    "cfg['time']['dt']    = 600.0\n",
    "cfg['grid']['nlev']  = nlev\n",
    "cfg['grid']['ddu']   = 0.0\n",
    "\n",
    "# output\n",
    "cfg['output'] = {}\n",
    "cfg['output']['gotm_out'] = {}\n",
    "cfg['output']['gotm_out']['use'] = True\n",
    "cfg['output']['gotm_out']['title'] = title\n",
    "cfg['output']['gotm_out']['k1_stop'] = nlev+1\n",
    "cfg['output']['gotm_out']['k_stop'] = nlev\n",
    "cfg['output']['gotm_out']['time_unit'] = 'day'\n",
    "cfg['output']['gotm_out']['time_step'] = 1\n",
    "cfg['output']['gotm_out']['variables'] = [{}]\n",
    "cfg['output']['gotm_out']['variables'][0]['source'] = '*'\n",
    "\n",
    "# forcing\n",
    "datadir = os.path.join(os.getcwd(), 'data')\n",
    "meteodata = os.path.join(datadir, 'meteo.dat')\n",
    "cfg['temperature']['method'] = 'file'\n",
    "cfg['temperature']['file'] = os.path.join(datadir, 't_prof.dat')\n",
    "cfg['salinity']['method'] = 'file'\n",
    "cfg['salinity']['file'] = os.path.join(datadir, 's_prof.dat')\n",
    "cfg['salinity']['relax']['tau'] = 4320000.0\n",
    "cfg['salinity']['relax']['tau_s'] = 4320000.0\n",
    "cfg['salinity']['relax']['tau_b'] = 4320000.0\n",
    "cfg['surface']['fluxes']['method'] = 'kondo'\n",
    "cfg['surface']['u10']['method'] = 'file'\n",
    "cfg['surface']['u10']['file'] = meteodata\n",
    "cfg['surface']['u10']['column'] = 1\n",
    "cfg['surface']['u10']['scale_factor'] = 1.0\n",
    "cfg['surface']['v10']['method'] = 'file'\n",
    "cfg['surface']['v10']['file'] = meteodata\n",
    "cfg['surface']['v10']['column'] = 2\n",
    "cfg['surface']['v10']['scale_factor'] = 1.0\n",
    "cfg['surface']['airp']['method'] = 'file'\n",
    "cfg['surface']['airp']['file'] = meteodata\n",
    "cfg['surface']['airp']['column'] = 3\n",
    "cfg['surface']['airp']['scale_factor'] = 1.0\n",
    "cfg['surface']['airt']['method'] = 'file'\n",
    "cfg['surface']['airt']['file'] = meteodata\n",
    "cfg['surface']['airt']['column'] = 4\n",
    "cfg['surface']['airt']['scale_factor'] = 1.0\n",
    "cfg['surface']['hum']['method'] = 'file'\n",
    "cfg['surface']['hum']['file'] = meteodata\n",
    "cfg['surface']['hum']['column'] = 5\n",
    "cfg['surface']['hum']['scale_factor'] = 1.0\n",
    "cfg['surface']['hum']['type'] = 'relative'\n",
    "cfg['surface']['cloud']['method'] = 'file'\n",
    "cfg['surface']['cloud']['file'] = meteodata\n",
    "cfg['surface']['cloud']['column'] = 6\n",
    "cfg['surface']['cloud']['scale_factor'] = 1.0\n",
    "cfg['surface']['swr']['method'] = 'calculate'\n",
    "cfg['surface']['precip']['method'] = 'file'\n",
    "cfg['surface']['precip']['file'] = os.path.join(datadir, 'precip.dat')\n",
    "\n",
    "# Stokes drift\n",
    "cfg['waves']['stokes_drift']['us0']['method'] = 'file'\n",
    "cfg['waves']['stokes_drift']['us0']['file'] = os.path.join(datadir, 'us_surface.dat')\n",
    "cfg['waves']['stokes_drift']['us0']['column'] = 1\n",
    "cfg['waves']['stokes_drift']['vs0']['method'] = 'file'\n",
    "cfg['waves']['stokes_drift']['vs0']['file'] = os.path.join(datadir, 'us_surface.dat')\n",
    "cfg['waves']['stokes_drift']['vs0']['column'] = 2\n",
    "cfg['waves']['stokes_drift']['us']['method'] = 'file'\n",
    "cfg['waves']['stokes_drift']['us']['file'] = os.path.join(datadir, 'us_prof.dat')\n",
    "cfg['waves']['stokes_drift']['us']['column'] = 1\n",
    "cfg['waves']['stokes_drift']['vs']['method'] = 'file'\n",
    "cfg['waves']['stokes_drift']['vs']['file'] = os.path.join(datadir, 'us_prof.dat')\n",
    "cfg['waves']['stokes_drift']['vs']['column'] = 2\n",
    "\n",
    "\n",
    "# water type\n",
    "cfg['light_extinction']['method'] = 'custom'\n",
    "cfg['light_extinction']['A']['method'] = 'constant'\n",
    "cfg['light_extinction']['A']['constant_value'] = 0.4\n",
    "cfg['light_extinction']['g1']['method'] = 'constant'\n",
    "cfg['light_extinction']['g1']['constant_value'] = 3\n",
    "cfg['light_extinction']['g2']['method'] = 'constant'\n",
    "cfg['light_extinction']['g2']['constant_value'] = 15.7"
   ]
  },
  {
   "cell_type": "markdown",
   "metadata": {},
   "source": [
    "## Run the model\n",
    "\n",
    "Set the configurations and labels for each run"
   ]
  },
  {
   "cell_type": "code",
   "execution_count": null,
   "metadata": {},
   "outputs": [],
   "source": [
    "cfgs = []\n",
    "labels = []"
   ]
  },
  {
   "cell_type": "code",
   "execution_count": null,
   "metadata": {},
   "outputs": [],
   "source": [
    "cfg['turbulence']['turb_method'] = 'second_order'\n",
    "cfg['turbulence']['tke_method'] = 'tke'\n",
    "cfg['turbulence']['len_scale_method'] = 'gls'\n",
    "cfg['turbulence']['scnd']['method'] =  'weak_eq_kb_eq'\n",
    "cfg['turbulence']['scnd']['scnd_coeff'] =  'canuto-a'\n",
    "cfg['turbulence']['turb_param']['length_lim'] = 'false'\n",
    "cfg['turbulence']['turb_param']['compute_c3'] = 'true'\n",
    "cfg['turbulence']['turb_param']['Ri_st'] = 0.25\n",
    "cfg['turbulence']['generic']['gen_m'] = 1.5 \n",
    "cfg['turbulence']['generic']['gen_n'] = -1.0\n",
    "cfg['turbulence']['generic']['gen_p'] = 3.0 \n",
    "cfg['turbulence']['generic']['cpsi1'] = 1.44\n",
    "cfg['turbulence']['generic']['cpsi2'] = 1.92\n",
    "cfg['turbulence']['generic']['cpsi3minus'] = -0.63\n",
    "cfg['turbulence']['generic']['cpsi3plus'] = 1.0 \n",
    "cfg['turbulence']['generic']['sig_kpsi'] = 1.0 \n",
    "cfg['turbulence']['generic']['sig_psi'] = 1.3\n",
    "cfgs.append(copy.deepcopy(cfg))\n",
    "labels.append('GLS-C01A')"
   ]
  },
  {
   "cell_type": "code",
   "execution_count": null,
   "metadata": {},
   "outputs": [],
   "source": [
    "cfg['turbulence']['turb_method'] = 'cvmix'\n",
    "cfgs.append(copy.deepcopy(cfg))\n",
    "labels.append('KPP-CVMix')"
   ]
  },
  {
   "cell_type": "code",
   "execution_count": null,
   "metadata": {},
   "outputs": [],
   "source": [
    "cfg['cvmix']['surface_layer']['langmuir_method'] = 'lwf16'\n",
    "cfgs.append(copy.deepcopy(cfg))\n",
    "labels.append('KPPLT-VR12')"
   ]
  },
  {
   "cell_type": "code",
   "execution_count": null,
   "metadata": {},
   "outputs": [],
   "source": [
    "cfg['cvmix']['surface_layer']['langmuir_method'] = 'lf17'\n",
    "cfgs.append(copy.deepcopy(cfg))\n",
    "labels.append('KPPLT-LF17')"
   ]
  },
  {
   "cell_type": "markdown",
   "metadata": {},
   "source": [
    "Run the three cases in parallel with 2 processes "
   ]
  },
  {
   "cell_type": "code",
   "execution_count": null,
   "metadata": {},
   "outputs": [],
   "source": [
    "%%time\n",
    "sims = m.run_batch(configs=cfgs, labels=labels, nproc=2)"
   ]
  }
 ],
 "metadata": {
  "kernelspec": {
   "display_name": "Python 3",
   "language": "python",
   "name": "python3"
  },
  "language_info": {
   "codemirror_mode": {
    "name": "ipython",
    "version": 3
   },
   "file_extension": ".py",
   "mimetype": "text/x-python",
   "name": "python",
   "nbconvert_exporter": "python",
   "pygments_lexer": "ipython3",
   "version": "3.9.15"
  }
 },
 "nbformat": 4,
 "nbformat_minor": 4
}

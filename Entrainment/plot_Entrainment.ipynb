{
 "cells": [
  {
   "cell_type": "markdown",
   "metadata": {},
   "source": [
    "# Idealized entrainment\n",
    "\n",
    "This notebook visualizes the results of GOTM simulations in an idealized wind stress-driven entrainment case with no rotation, in which the mixed layer gradually entrains into an underlying non-turbulent region with constant stable stratification.\n",
    "The results are compared with the scaling derived from laboratory experiments of [Price (1979)](https://doi.org/10.1017/S0022112079002366), in which the time evolution of the mixed layer depth follows\n",
    "\n",
    "$h_m(t) = (2R_v)^{1/4}u_*\\left(\\frac{t}{N_0}\\right)^{1/2}$\n",
    "\n",
    "where $R_v\\approx0.6$ is the bulk Richardson number, $u_*$ the water side surface friction velocity, $N_0$ the initial buoyancy frequency.\n",
    "See, e.g., section 5.1 of [Umlauf and Burchard (2005)](https://doi.org/10.1016/j.csr.2004.08.004) for more details."
   ]
  },
  {
   "cell_type": "code",
   "execution_count": null,
   "metadata": {},
   "outputs": [],
   "source": [
    "import os\n",
    "import sys\n",
    "import numpy as np\n",
    "import string\n",
    "import matplotlib.pyplot as plt\n",
    "# add the path of gotmtool\n",
    "sys.path.append(os.path.join(os.pardir, 'gotmtool'))\n",
    "from gotmtool import *\n",
    "from gotmtool.diags import *"
   ]
  },
  {
   "cell_type": "markdown",
   "metadata": {},
   "source": [
    "## Load data\n",
    "\n",
    "First, store the information of the four simulations into lists and dictionaries. "
   ]
  },
  {
   "cell_type": "code",
   "execution_count": null,
   "metadata": {},
   "outputs": [],
   "source": [
    "runlabel = '_Nz250_Nt18000'\n",
    "casenames = [\n",
    "    'GLS-C01A'   + runlabel,\n",
    "    'KPP-CVMix'  + runlabel,\n",
    "    'KPPLT-VR12' + runlabel,\n",
    "    'KPPLT-LF17' + runlabel,\n",
    "    ]\n",
    "\n",
    "labels = {\n",
    "    casenames[0]: 'GLS-C01A',\n",
    "    casenames[1]: 'KPP-CVMix',\n",
    "    casenames[2]: 'KPPLT-VR12',\n",
    "    casenames[3]: 'KPPLT-LF17',\n",
    "    }\n",
    "\n",
    "colors = {\n",
    "    casenames[0]: 'tab:blue',\n",
    "    casenames[1]: 'tab:olive',\n",
    "    casenames[2]: 'tab:orange',\n",
    "    casenames[3]: 'tab:red',\n",
    "    }\n",
    "\n",
    "linestyles = {\n",
    "    casenames[0]: '-',\n",
    "    casenames[1]: '-',\n",
    "    casenames[2]: '-',\n",
    "    casenames[3]: '-',\n",
    "    }\n",
    "\n",
    "casedir = os.path.join(os.pardir, 'gotm', 'run', 'Entrainment')\n",
    "save_fig = True"
   ]
  },
  {
   "cell_type": "markdown",
   "metadata": {},
   "source": [
    "Load data for the four simulations into a dictionary."
   ]
  },
  {
   "cell_type": "code",
   "execution_count": null,
   "metadata": {},
   "outputs": [],
   "source": [
    "sims = {}\n",
    "dataset = {}\n",
    "for case in casenames:\n",
    "    sim = Simulation(path=os.path.join(casedir, case))\n",
    "    sims[case] = sim\n",
    "    dataset[case] = sim.load_data()"
   ]
  },
  {
   "cell_type": "markdown",
   "metadata": {},
   "source": [
    "## Figure 1\n",
    "\n",
    "Vertical profiles of (a) down-wind velocity $u$, (b) turbulent viscosity $\\nu_m$, and (c) squared buoyancy frequency $N^2$ at the end of the 30-hour simulations."
   ]
  },
  {
   "cell_type": "code",
   "execution_count": null,
   "metadata": {},
   "outputs": [],
   "source": [
    "fig, axarr = plt.subplots(1,3, sharey='row')\n",
    "fig.set_size_inches([8,4])\n",
    "for case in casenames:\n",
    "    data = dataset[case]\n",
    "    data.u[:,-1,0,0].plot(y='z', ax=axarr[0], color=colors[case])\n",
    "    data.num[:,-1,0,0].plot(y='zi', ax=axarr[1], color=colors[case])\n",
    "    data.NN[:,-1,0,0].plot(y='zi', ax=axarr[2], color=colors[case], label=labels[case])\n",
    "\n",
    "for i in np.arange(3):\n",
    "    axarr[i].set_title('') \n",
    "    axarr[i].set_ylabel('') \n",
    "    \n",
    "axarr[0].set_ylim([-40,0])\n",
    "axarr[0].set_ylabel('Depth (m)')\n",
    "axarr[0].set_xlabel('$u$ (m s$^{-1}$)')\n",
    "axarr[1].set_xlabel('$\\\\nu_m$ (m$^2$ s$^{-1}$)')\n",
    "axarr[2].set_xlabel('$N^2$ (s$^{-2}$)')\n",
    "axarr[2].ticklabel_format(axis=\"x\", style=\"sci\", scilimits=(-2,2))\n",
    "\n",
    "axarr[2].legend(loc='upper right')\n",
    "\n",
    "for i, ax in enumerate(axarr):\n",
    "    ax.text(0.82, 0.05, '('+string.ascii_lowercase[i]+')', transform=ax.transAxes,\n",
    "            fontsize=12, va='bottom')\n",
    "\n",
    "if save_fig:\n",
    "    plt.tight_layout()\n",
    "    figname = 'entrainment_pfl.pdf'\n",
    "    fig.savefig(figname, dpi=300)"
   ]
  },
  {
   "cell_type": "markdown",
   "metadata": {},
   "source": [
    "## Figure 2\n",
    "\n",
    "A comparison of the time evolution of the mixed layer depth $h_m$ in GOTM simulations defined by the depth at which $N^2$ reaches its maximum in color, and the prediction of [Price (1979)](https://doi.org/10.1017/S0022112079002366) in black.\n",
    "\n",
    "First, compute the predicted mixed layer depth."
   ]
  },
  {
   "cell_type": "code",
   "execution_count": null,
   "metadata": {},
   "outputs": [],
   "source": [
    "data0 = dataset[casenames[0]]\n",
    "N0 = np.sqrt(data0.NN[2,-1,0,0].values)\n",
    "ustar = data0.u_taus[-1,0,0].values\n",
    "sec = ((data0.time - data0.time[0])/np.timedelta64(1, 's')).values\n",
    "mld_val = np.sqrt(np.sqrt(2.*0.6))*ustar*np.sqrt(sec/N0)\n",
    "mld_p79 = xr.DataArray(mld_val, dims=['time'], coords={'time': data0.time},  \n",
    "                  attrs={'long_name': 'mixed layer depth (Price 1979)',\n",
    "                        'units': 'm'})"
   ]
  },
  {
   "cell_type": "markdown",
   "metadata": {},
   "source": [
    "Then, plot the figure. See also Fig. 5a of [Umlauf and Burchard (2005)](https://doi.org/10.1016/j.csr.2004.08.004)."
   ]
  },
  {
   "cell_type": "code",
   "execution_count": null,
   "metadata": {},
   "outputs": [],
   "source": [
    "fig = plt.figure(figsize=[5,3.5])\n",
    "hours = sec/3600.\n",
    "plt.plot(hours, mld_p79.values, color='k', linestyle='-', linewidth=1.5, label='P79')\n",
    "for case in casenames:\n",
    "    data = dataset[case]\n",
    "    NN = data.NN[:,:,0,0]\n",
    "    mld = get_bld_maxNN(NN)\n",
    "#     plt.plot(hours, mld.values, color=colors[case], linestyle=linestyles[case], label=labels[case])\n",
    "    plt.scatter(hours, mld.values, s=10, color=colors[case], label=labels[case])\n",
    "plt.ylabel('$h_m$ (m)')\n",
    "plt.xlabel('Time (hours)')\n",
    "plt.xlim([hours[0], hours[-1]])\n",
    "plt.ylim([0,35])\n",
    "plt.legend(loc='lower right')\n",
    "plt.grid()\n",
    "if save_fig:\n",
    "    plt.tight_layout()\n",
    "    figname = 'entrainment_ts.pdf'\n",
    "    fig.savefig(figname, dpi=300)"
   ]
  }
 ],
 "metadata": {
  "kernelspec": {
   "display_name": "Python 3",
   "language": "python",
   "name": "python3"
  },
  "language_info": {
   "codemirror_mode": {
    "name": "ipython",
    "version": 3
   },
   "file_extension": ".py",
   "mimetype": "text/x-python",
   "name": "python",
   "nbconvert_exporter": "python",
   "pygments_lexer": "ipython3",
   "version": "3.9.15"
  }
 },
 "nbformat": 4,
 "nbformat_minor": 4
}

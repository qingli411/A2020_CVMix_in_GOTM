{
 "cells": [
  {
   "cell_type": "markdown",
   "metadata": {},
   "source": [
    "# FLEX\n",
    "\n",
    "This notebook runs [GOTM](https://gotm.net/) using the [FLEX](https://gotm.net/cases/flex/) test case.\n",
    "\n",
    "Run the case with four turbulence closure schemes:\n",
    "\n",
    "- GLS-C01A: The generic length scale ([Umlauf and Burchard, 2003](https://doi.org/10.1357/002224003322005087)) model in the $k$-$\\epsilon$ formulation with the weak-equilibrium stability function by [Canuto et al., 2001](https://doi.org/10.1175/1520-0485(2001)031%3C1413:OTPIOP%3E2.0.CO;2) (C01A).\n",
    "\n",
    "- Three variants of KPP via [CVMix](http://cvmix.github.io):\n",
    "    - KPP-CVMix ([Large et al., 1994](https://doi.org/10.1029/94RG01872), [Griffies et al., 2015](https://github.com/CVMix/CVMix-description/raw/master/cvmix.pdf))\n",
    "    - KPPLT-VR12 ([Li et al., 2016](https://doi.org/10.1016%2Fj.ocemod.2015.07.020))\n",
    "    - KPPLT-LF17 ([Li and Fox-Kemper, 2017](https://doi.org/10.1175%2FJPO-D-17-0085.1))\n",
    "    \n",
    "Estimate the Stokes drift from the wind following [Li et al., 2017](https://doi.org/10.1016/j.ocemod.2017.03.016)."
   ]
  },
  {
   "cell_type": "code",
   "execution_count": null,
   "metadata": {},
   "outputs": [],
   "source": [
    "import os\n",
    "import sys\n",
    "import copy\n",
    "import numpy as np\n",
    "import matplotlib.pyplot as plt\n",
    "# add the path of gotmtool\n",
    "sys.path.append(os.path.join(os.pardir, 'gotmtool'))\n",
    "from gotmtool import *"
   ]
  },
  {
   "cell_type": "markdown",
   "metadata": {},
   "source": [
    "## Create a model\n",
    "Create a model with environment file `../gotmtool/.gotm_env.yaml`, which is created by `gotm_env_init.py`. "
   ]
  },
  {
   "cell_type": "code",
   "execution_count": null,
   "metadata": {},
   "outputs": [],
   "source": [
    "m = Model(name='FLEX', environ=os.path.join(os.pardir, 'gotmtool', '.gotm_env.yaml'))"
   ]
  },
  {
   "cell_type": "markdown",
   "metadata": {},
   "source": [
    "Take a look at what are defined in the environment file."
   ]
  },
  {
   "cell_type": "code",
   "execution_count": null,
   "metadata": {},
   "outputs": [],
   "source": [
    "for key in m.environ:\n",
    "    print('{:>15s}: {}'.format(key, m.environ[key]) )"
   ]
  },
  {
   "cell_type": "markdown",
   "metadata": {},
   "source": [
    "## Build the model"
   ]
  },
  {
   "cell_type": "code",
   "execution_count": null,
   "metadata": {},
   "outputs": [],
   "source": [
    "%%time\n",
    "m.build()"
   ]
  },
  {
   "cell_type": "markdown",
   "metadata": {},
   "source": [
    "## Configuration\n",
    "Initialize the GOTM configuration"
   ]
  },
  {
   "cell_type": "code",
   "execution_count": null,
   "metadata": {},
   "outputs": [],
   "source": [
    "cfg = m.init_config()"
   ]
  },
  {
   "cell_type": "markdown",
   "metadata": {},
   "source": [
    "Update the configuration"
   ]
  },
  {
   "cell_type": "code",
   "execution_count": null,
   "metadata": {},
   "outputs": [],
   "source": [
    "# setup\n",
    "title = 'FLEX'\n",
    "nlev = 145\n",
    "cfg['title'] = title\n",
    "cfg['location']['name'] = 'Flex Experiment 1976'\n",
    "cfg['location']['latitude'] = 58.92\n",
    "cfg['location']['longitude'] = 0.32\n",
    "cfg['location']['depth'] = 145.0\n",
    "cfg['time']['start'] = '1976-04-06 06:00:00'\n",
    "cfg['time']['stop']  = '1976-06-07 00:00:00'\n",
    "cfg['time']['dt']    = 360.0\n",
    "cfg['grid']['nlev']  = nlev\n",
    "cfg['grid']['ddu']  = 0.0\n",
    "cfg['grid']['ddl']  = 0.0\n",
    "\n",
    "# output\n",
    "cfg['output'] = {}\n",
    "cfg['output']['gotm_out'] = {}\n",
    "cfg['output']['gotm_out']['use'] = True\n",
    "cfg['output']['gotm_out']['title'] = title\n",
    "cfg['output']['gotm_out']['k1_stop'] = nlev+1\n",
    "cfg['output']['gotm_out']['k_stop'] = nlev\n",
    "cfg['output']['gotm_out']['time_unit'] = 'dt'\n",
    "cfg['output']['gotm_out']['time_step'] = 30\n",
    "cfg['output']['gotm_out']['variables'] = [{}]\n",
    "cfg['output']['gotm_out']['variables'][0]['source'] = '*'\n",
    "\n",
    "# forcing\n",
    "datadir = os.path.join(os.getcwd(), 'data')\n",
    "meteodata = os.path.join(datadir, 'meteo.dat')\n",
    "cfg['temperature']['method'] = 'file'\n",
    "cfg['temperature']['file'] = os.path.join(datadir, 't_prof.dat')\n",
    "cfg['salinity']['method'] = 'file'\n",
    "cfg['salinity']['file'] = os.path.join(datadir, 's_prof.dat')\n",
    "cfg['salinity']['relax']['tau'] = 172800.0\n",
    "cfg['salinity']['relax']['tau_s'] = 172800.0\n",
    "cfg['salinity']['relax']['tau_b'] = 172800.0\n",
    "cfg['surface']['fluxes']['method'] = 'fairall'\n",
    "cfg['surface']['u10']['method'] = 'file'\n",
    "cfg['surface']['u10']['file'] = meteodata\n",
    "cfg['surface']['u10']['column'] = 1\n",
    "cfg['surface']['v10']['method'] = 'file'\n",
    "cfg['surface']['v10']['file'] = meteodata\n",
    "cfg['surface']['v10']['column'] = 2\n",
    "cfg['surface']['airp']['method'] = 'file'\n",
    "cfg['surface']['airp']['file'] = meteodata\n",
    "cfg['surface']['airp']['column'] = 3\n",
    "cfg['surface']['airp']['scale_factor'] = 100.0\n",
    "cfg['surface']['airt']['method'] = 'file'\n",
    "cfg['surface']['airt']['file'] = meteodata\n",
    "cfg['surface']['airt']['column'] = 4\n",
    "cfg['surface']['hum']['method'] = 'file'\n",
    "cfg['surface']['hum']['file'] = meteodata\n",
    "cfg['surface']['hum']['column'] = 5\n",
    "cfg['surface']['hum']['type'] = 'wet_bulb'\n",
    "cfg['surface']['swr']['method'] = 'file'\n",
    "cfg['surface']['swr']['file'] = os.path.join(datadir, 'swr.dat')\n",
    "cfg['surface']['longwave_radiation']['method'] = 'file'\n",
    "cfg['surface']['longwave_radiation']['file'] = os.path.join(datadir, 'lwr.dat')\n",
    "cfg['surface']['sst']['method'] = 'file'\n",
    "cfg['surface']['sst']['file'] = os.path.join(datadir, 'sst.dat')\n",
    "\n",
    "cfg['waves']['stokes_drift']['us']['method'] = 'empirical'\n",
    "cfg['waves']['stokes_drift']['vs']['method'] = 'empirical'\n",
    "cfg['waves']['stokes_drift']['empirical']['uwnd']['method'] = 'file'\n",
    "cfg['waves']['stokes_drift']['empirical']['uwnd']['file'] = meteodata\n",
    "cfg['waves']['stokes_drift']['empirical']['uwnd']['column'] = 1\n",
    "cfg['waves']['stokes_drift']['empirical']['vwnd']['method'] = 'file'\n",
    "cfg['waves']['stokes_drift']['empirical']['vwnd']['file'] = meteodata\n",
    "cfg['waves']['stokes_drift']['empirical']['vwnd']['column'] = 2\n",
    "\n",
    "# water type -- Jerlov Type III\n",
    "cfg['light_extinction']['method'] = 'jerlov-iii'\n",
    "\n",
    "# tidal\n",
    "extpressdata = os.path.join(datadir, 'ext_press.dat')\n",
    "cfg['mimic_3d']['ext_pressure']['type'] = 'elevation'\n",
    "cfg['mimic_3d']['ext_pressure']['dpdx']['method'] = 'file'\n",
    "cfg['mimic_3d']['ext_pressure']['dpdx']['file'] = extpressdata\n",
    "cfg['mimic_3d']['ext_pressure']['dpdx']['column'] = 2\n",
    "cfg['mimic_3d']['ext_pressure']['dpdy']['method'] = 'file'\n",
    "cfg['mimic_3d']['ext_pressure']['dpdy']['file'] = extpressdata\n",
    "cfg['mimic_3d']['ext_pressure']['dpdy']['column'] = 3\n",
    "cfg['mimic_3d']['ext_pressure']['h']['method'] = 'file'\n",
    "cfg['mimic_3d']['ext_pressure']['h']['file'] = extpressdata\n",
    "cfg['mimic_3d']['ext_pressure']['h']['column'] = 1\n"
   ]
  },
  {
   "cell_type": "markdown",
   "metadata": {},
   "source": [
    "## Run the model\n",
    "\n",
    "Set the configurations and labels for each run"
   ]
  },
  {
   "cell_type": "code",
   "execution_count": null,
   "metadata": {},
   "outputs": [],
   "source": [
    "cfgs = []\n",
    "labels = []"
   ]
  },
  {
   "cell_type": "code",
   "execution_count": null,
   "metadata": {},
   "outputs": [],
   "source": [
    "cfg['turbulence']['turb_method'] = 'second_order'\n",
    "cfg['turbulence']['tke_method'] = 'tke'\n",
    "cfg['turbulence']['len_scale_method'] = 'gls'\n",
    "cfg['turbulence']['scnd']['method'] =  'weak_eq_kb_eq'\n",
    "cfg['turbulence']['scnd']['scnd_coeff'] =  'canuto-a'\n",
    "cfg['turbulence']['turb_param']['length_lim'] = 'false'\n",
    "cfg['turbulence']['turb_param']['compute_c3'] = 'true'\n",
    "cfg['turbulence']['turb_param']['Ri_st'] = 0.25\n",
    "cfg['turbulence']['generic']['gen_m'] = 1.5 \n",
    "cfg['turbulence']['generic']['gen_n'] = -1.0\n",
    "cfg['turbulence']['generic']['gen_p'] = 3.0 \n",
    "cfg['turbulence']['generic']['cpsi1'] = 1.44\n",
    "cfg['turbulence']['generic']['cpsi2'] = 1.92\n",
    "cfg['turbulence']['generic']['cpsi3minus'] = -0.63\n",
    "cfg['turbulence']['generic']['cpsi3plus'] = 1.0 \n",
    "cfg['turbulence']['generic']['sig_kpsi'] = 1.0 \n",
    "cfg['turbulence']['generic']['sig_psi'] = 1.3\n",
    "cfgs.append(copy.deepcopy(cfg))\n",
    "labels.append('GLS-C01A_tidal')"
   ]
  },
  {
   "cell_type": "code",
   "execution_count": null,
   "metadata": {},
   "outputs": [],
   "source": [
    "# turn tidal forcing off\n",
    "cfg['mimic_3d']['ext_pressure']['dpdx']['method'] = 'constant'\n",
    "cfg['mimic_3d']['ext_pressure']['dpdx']['constant_value'] = 0.0\n",
    "cfg['mimic_3d']['ext_pressure']['dpdy']['method'] = 'constant'\n",
    "cfg['mimic_3d']['ext_pressure']['dpdy']['constant_value'] = 0.0\n",
    "cfg['mimic_3d']['ext_pressure']['h']['method'] = 'constant'\n",
    "cfg['mimic_3d']['ext_pressure']['h']['constant_value'] = 0.0\n",
    "cfgs.append(copy.deepcopy(cfg))\n",
    "labels.append('GLS-C01A')"
   ]
  },
  {
   "cell_type": "code",
   "execution_count": null,
   "metadata": {},
   "outputs": [],
   "source": [
    "cfg['turbulence']['turb_method'] = 'cvmix'\n",
    "cfgs.append(copy.deepcopy(cfg))\n",
    "labels.append('KPP-CVMix')"
   ]
  },
  {
   "cell_type": "code",
   "execution_count": null,
   "metadata": {},
   "outputs": [],
   "source": [
    "cfg['cvmix']['surface_layer']['langmuir_method'] = 'lwf16'\n",
    "cfgs.append(copy.deepcopy(cfg))\n",
    "labels.append('KPPLT-VR12')"
   ]
  },
  {
   "cell_type": "code",
   "execution_count": null,
   "metadata": {},
   "outputs": [],
   "source": [
    "cfg['cvmix']['surface_layer']['langmuir_method'] = 'lf17'\n",
    "cfgs.append(copy.deepcopy(cfg))\n",
    "labels.append('KPPLT-LF17')"
   ]
  },
  {
   "cell_type": "markdown",
   "metadata": {},
   "source": [
    "Run the cases in parallel with 2 processes "
   ]
  },
  {
   "cell_type": "code",
   "execution_count": null,
   "metadata": {},
   "outputs": [],
   "source": [
    "%%time\n",
    "sims = m.run_batch(configs=cfgs, labels=labels, nproc=2)"
   ]
  }
 ],
 "metadata": {
  "kernelspec": {
   "display_name": "Python 3",
   "language": "python",
   "name": "python3"
  },
  "language_info": {
   "codemirror_mode": {
    "name": "ipython",
    "version": 3
   },
   "file_extension": ".py",
   "mimetype": "text/x-python",
   "name": "python",
   "nbconvert_exporter": "python",
   "pygments_lexer": "ipython3",
   "version": "3.9.15"
  }
 },
 "nbformat": 4,
 "nbformat_minor": 4
}

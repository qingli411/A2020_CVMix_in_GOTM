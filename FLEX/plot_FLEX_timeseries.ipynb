{
 "cells": [
  {
   "cell_type": "markdown",
   "metadata": {},
   "source": [
    "# FLEX\n",
    "\n",
    "This notebook plots the time series of the surface forcing and simulated sea surface temperature and mixed layer depth in the [FLEX](https://gotm.net/cases/flex/) test case."
   ]
  },
  {
   "cell_type": "code",
   "execution_count": null,
   "metadata": {},
   "outputs": [],
   "source": [
    "import os\n",
    "import sys\n",
    "import numpy as np\n",
    "import string\n",
    "import matplotlib.pyplot as plt\n",
    "# add the path of gotmtool\n",
    "sys.path.append(os.path.join(os.pardir, 'gotmtool'))\n",
    "from gotmtool import *\n",
    "from gotmtool.diags import get_mld_deltaT"
   ]
  },
  {
   "cell_type": "markdown",
   "metadata": {},
   "source": [
    "## Load data\n",
    "\n",
    "First, store the information of the five simulations into lists and dictionaries. "
   ]
  },
  {
   "cell_type": "code",
   "execution_count": null,
   "metadata": {},
   "outputs": [],
   "source": [
    "casenames = [\n",
    "    'GLS-C01A_tidal',\n",
    "    'GLS-C01A',\n",
    "    'KPP-CVMix',\n",
    "    'KPPLT-VR12',\n",
    "    'KPPLT-LF17',\n",
    "    ]\n",
    "\n",
    "colors = {\n",
    "    'GLS-C01A_tidal': 'tab:blue',\n",
    "    'GLS-C01A': 'tab:blue',\n",
    "    'KPP-CVMix': 'tab:olive',\n",
    "    'KPPLT-VR12': 'tab:orange',\n",
    "    'KPPLT-LF17': 'tab:red',\n",
    "    }\n",
    "\n",
    "linestyles = {\n",
    "    'GLS-C01A_tidal': '--',\n",
    "    'GLS-C01A': '-',\n",
    "    'KPP-CVMix': '-',\n",
    "    'KPPLT-VR12': '-',\n",
    "    'KPPLT-LF17': '-',\n",
    "    }\n",
    "\n",
    "casedir = os.path.join(os.pardir, 'gotm', 'run', 'FLEX')\n",
    "save_fig = True"
   ]
  },
  {
   "cell_type": "markdown",
   "metadata": {},
   "source": [
    "Load data into a dictionary."
   ]
  },
  {
   "cell_type": "code",
   "execution_count": null,
   "metadata": {},
   "outputs": [],
   "source": [
    "sims = {}\n",
    "dataset = {}\n",
    "for case in casenames:\n",
    "    sim = Simulation(path=os.path.join(casedir, case))\n",
    "    sims[case] = sims\n",
    "    dataset[case] = sim.load_data()"
   ]
  },
  {
   "cell_type": "markdown",
   "metadata": {},
   "source": [
    "## Figure\n",
    "\n",
    "Time series of (a) net surface heat flux (W m$^{-2}$), (b) surface friction velocity (m s$^{-1}$), (c) La$_t^{-2}$ where La$_t$ is the turbulent Langmuir number, (d) sea surface temperature (SST; $^\\circ$C), and (e) mixed layer depth (MLD; m) defined by a 0.2 $^\\circ$C temperature threshold referenced to the surface."
   ]
  },
  {
   "cell_type": "code",
   "execution_count": null,
   "metadata": {},
   "outputs": [],
   "source": [
    "fig, axarr = plt.subplots(5,sharex='col')\n",
    "fig.set_size_inches([8,9])\n",
    "\n",
    "rho_w = 1000.\n",
    "data    = dataset['KPP-CVMix']\n",
    "ustar   = data.u_taus\n",
    "laturb  = data.La_Turb\n",
    "laturb  = laturb.where(laturb < 1.e3, drop=True)\n",
    "heat    = data.heat\n",
    "I0      = data.I_0\n",
    "tflux   = heat + I0\n",
    "time    = data.time\n",
    "time_start = time[0]\n",
    "time_end = time[-1]\n",
    "\n",
    "tflux.plot(ax=axarr[0], color='k', linewidth=1)\n",
    "# tflux.rolling(time=8, center=True).mean().plot(\n",
    "#     ax=axarr[0], color='k', linewidth=1.5)\n",
    "ustar.plot(ax=axarr[1], color='k', linewidth=1)\n",
    "# ustar.rolling(time=8, center=True).mean().plot(\n",
    "#     ax=axarr[1], color='k', linewidth=1.5)\n",
    "(laturb**(-2)).plot(ax=axarr[2], color='k', linewidth=1)\n",
    "# (laturb**(-2)).rolling(time=8, center=True).mean().plot(\n",
    "# ax=axarr[2], color='k', linewidth=1.5)\n",
    "\n",
    "data.sst_obs[:,0,0].rolling(time=1, center=True).mean().plot(\n",
    "    color='k', linestyle='-', linewidth=1, ax=axarr[3], label='Obs')\n",
    "\n",
    "mld_obs = -get_mld_deltaT(data.temp_obs[:,:,0,0], zRef=0.)\n",
    "mld_obs.rolling(time=1, center=True).mean().plot(\n",
    "    ax=axarr[4], color='k', linewidth=1, label='Obs')\n",
    "\n",
    "for case in casenames:\n",
    "    temp = dataset[case].temp\n",
    "    temp[-1,:,0,0].rolling(time=1, center=True).mean().plot(\n",
    "        ax=axarr[3], color=colors[case], linestyle=linestyles[case],\n",
    "        linewidth=1, alpha=0.8, label=case)\n",
    "\n",
    "    mld = -get_mld_deltaT(temp[:,:,0,0], zRef=0.)\n",
    "    mld = mld.where(mld.values>-140.)\n",
    "    mld.rolling(time=1, center=True).mean().plot(\n",
    "        ax=axarr[4], color=colors[case], linestyle=linestyles[case],\n",
    "        linewidth=1, alpha=0.8, label=case)\n",
    "\n",
    "axarr[3].legend(loc = 'upper center', fontsize=10, ncol=3,\n",
    "                  bbox_to_anchor=(0.4, 0.95))\n",
    "\n",
    "axarr[0].set_ylabel('$Q_0$ (W m$^{-2}$)', fontsize=12)\n",
    "axarr[0].axhline(0, color='k', linewidth=0.75)\n",
    "axarr[0].set_ylim([-200, 500])\n",
    "axarr[1].set_ylabel('$u_*$ (m s$^{-1}$)', fontsize=12)\n",
    "axarr[1].set_ylim([0, 0.03])\n",
    "axarr[2].axhline(0.3**(-2), color='k', linestyle=':', linewidth=0.75)\n",
    "axarr[2].axhline(0.25**(-2), color='k', linestyle=':', linewidth=0.75)\n",
    "axarr[2].set_ylim([8, 18])\n",
    "axarr[2].set_ylabel('La$_t^{-2}$', fontsize=12)\n",
    "axarr[3].set_ylabel('SST ($^\\circ$C)', fontsize=12)\n",
    "axarr[3].set_ylim([6, 10])\n",
    "axarr[4].set_ylim([-100, 0])\n",
    "axarr[4].set_ylabel('MLD (m)', fontsize=12)\n",
    "\n",
    "for i, ax in enumerate(axarr):\n",
    "    ax.set_title('')\n",
    "    ax.set_xlabel('')\n",
    "    ax.set_xlim([time_start,time_end])\n",
    "    ax.set_xticks([np.datetime64('1976-04-08'),\n",
    "                   np.datetime64('1976-04-15'),\n",
    "                   np.datetime64('1976-04-22'),\n",
    "                   np.datetime64('1976-04-29'),\n",
    "                   np.datetime64('1976-05-06'),\n",
    "                   np.datetime64('1976-05-13'),\n",
    "                   np.datetime64('1976-05-20'),\n",
    "                   np.datetime64('1976-05-27'),\n",
    "                   np.datetime64('1976-06-03'),\n",
    "                  ])\n",
    "    if i == 1 or i == 2:\n",
    "        ax.text(0.015, 0.08, '('+string.ascii_lowercase[i]+')', transform=ax.transAxes,\n",
    "                fontsize=12, va='bottom')\n",
    "    else:\n",
    "        ax.text(0.015, 0.92, '('+string.ascii_lowercase[i]+')', transform=ax.transAxes,\n",
    "                fontsize=12, va='top')\n",
    "    \n",
    "if save_fig:\n",
    "    plt.subplots_adjust(top=0.97, bottom=0.1, right=0.98, hspace=0.13)\n",
    "    figname = 'flex_ts.pdf'\n",
    "    fig.savefig(figname, dpi=300)"
   ]
  },
  {
   "cell_type": "code",
   "execution_count": null,
   "metadata": {},
   "outputs": [],
   "source": []
  }
 ],
 "metadata": {
  "kernelspec": {
   "display_name": "Python 3",
   "language": "python",
   "name": "python3"
  },
  "language_info": {
   "codemirror_mode": {
    "name": "ipython",
    "version": 3
   },
   "file_extension": ".py",
   "mimetype": "text/x-python",
   "name": "python",
   "nbconvert_exporter": "python",
   "pygments_lexer": "ipython3",
   "version": "3.9.15"
  }
 },
 "nbformat": 4,
 "nbformat_minor": 4
}

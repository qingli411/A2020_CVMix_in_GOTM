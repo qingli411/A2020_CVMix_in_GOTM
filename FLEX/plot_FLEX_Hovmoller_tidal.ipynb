{
 "cells": [
  {
   "cell_type": "markdown",
   "metadata": {},
   "source": [
    "# FLEX\n",
    "\n",
    "This notebook plots the Hovmoller diagrams of the simulated temperature in the [FLEX](https://gotm.net/cases/flex/) test case."
   ]
  },
  {
   "cell_type": "code",
   "execution_count": null,
   "metadata": {},
   "outputs": [],
   "source": [
    "import os\n",
    "import sys\n",
    "import numpy as np\n",
    "import string\n",
    "import matplotlib.pyplot as plt\n",
    "sys.path.append(os.path.join(os.pardir, 'gotmtool'))\n",
    "from gotmtool import *\n",
    "from gotmtool.diags import get_mld_deltaT"
   ]
  },
  {
   "cell_type": "markdown",
   "metadata": {},
   "source": [
    "## Load data\n",
    "\n",
    "First, store the information of the five simulations into lists and dictionaries. "
   ]
  },
  {
   "cell_type": "code",
   "execution_count": null,
   "metadata": {},
   "outputs": [],
   "source": [
    "casenames = [\n",
    "    'KPP-CVMix',\n",
    "    'KPPLT-VR12',\n",
    "    'KPPLT-LF17',\n",
    "    'GLS-C01A',\n",
    "    'GLS-C01A_tidal',\n",
    "    ]\n",
    "\n",
    "casedir = os.path.join(os.pardir, 'gotm', 'run', 'FLEX')\n",
    "save_fig = True"
   ]
  },
  {
   "cell_type": "markdown",
   "metadata": {},
   "source": [
    "Load data into a dictionary."
   ]
  },
  {
   "cell_type": "code",
   "execution_count": null,
   "metadata": {},
   "outputs": [],
   "source": [
    "sims = {}\n",
    "dataset = {}\n",
    "for case in casenames:\n",
    "    sim = Simulation(path=os.path.join(casedir, case))\n",
    "    sims[case] = sim\n",
    "    dataset[case] = sim.load_data()"
   ]
  },
  {
   "cell_type": "markdown",
   "metadata": {},
   "source": [
    "# Figure\n",
    "\n",
    "Hovmoller diagrams comparing the observed and simulated temperature between the four vertical mixing schemes, and with and without tidal forcing in GLS-C01A."
   ]
  },
  {
   "cell_type": "code",
   "execution_count": null,
   "metadata": {},
   "outputs": [],
   "source": [
    "fig, axarr = plt.subplots(3,2, sharex='col')\n",
    "fig.set_size_inches([10,8])\n",
    "\n",
    "levels = np.linspace(6, 10, 41)\n",
    "data = dataset['KPP-CVMix'].temp_obs[:,:,0,0]\n",
    "mld_obs = -get_mld_deltaT(data)\n",
    "im = data.plot.contourf(ax=axarr[0,0], levels=levels, add_colorbar=False)\n",
    "mld_obs.rolling(time=8, center=True).mean().plot(\n",
    "    ax=axarr[0,0], color='w', linewidth=1.5)\n",
    "data0 = dataset['KPP-CVMix'].temp[:,:,0,0]\n",
    "im0 = data0.plot.contourf(ax=axarr[0,1], levels=levels, add_colorbar=False)\n",
    "mld_obs.rolling(time=8, center=True).mean().plot(\n",
    "    ax=axarr[0,1], color='w', linestyle='--', linewidth=1.5)\n",
    "mld0 = -get_mld_deltaT(data0)\n",
    "mld0.rolling(time=8, center=True).mean().plot(\n",
    "    ax=axarr[0,1], color='w', linestyle='-', linewidth=1.5)\n",
    "\n",
    "levels_diff = np.linspace(-1, 1, 41)\n",
    "\n",
    "labels = ['Observation', 'GLS-C01A']\n",
    "data1 = dataset['GLS-C01A'].temp[:,:,0,0]\n",
    "im1 = data1.plot.contourf(ax=axarr[1,0], levels=levels, add_colorbar=False)\n",
    "mld_obs.rolling(time=8, center=True).mean().plot(\n",
    "    ax=axarr[1,0], color='w', linestyle='--', linewidth=1.5)\n",
    "mld1 = -get_mld_deltaT(data1)\n",
    "mld1.rolling(time=8, center=True).mean().plot(\n",
    "    ax=axarr[1,0], color='w', linestyle='-', linewidth=1.5)\n",
    "\n",
    "j = 1\n",
    "for case in ['GLS-C01A_tidal']:\n",
    "    j += 1\n",
    "    data2 = dataset[case].temp[:,:,0,0]\n",
    "    diff = data2 - data1\n",
    "    diff.attrs['long_name'] = '$\\Delta$ '+ data1.attrs['long_name']\n",
    "    diff.attrs['units'] = data1.attrs['units']\n",
    "    im1 = diff.plot.contourf(ax=axarr[j,0], levels=levels_diff, add_colorbar=False)\n",
    "    labels.append(case+'\\n $-$ GLS-C01A')\n",
    "    mld_obs.rolling(time=8, center=True).mean().plot(\n",
    "        ax=axarr[j,0], color='gray', linestyle='--', linewidth=1.5)\n",
    "    mld1 = -get_mld_deltaT(data2)\n",
    "    mld1.rolling(time=8, center=True).mean().plot(\n",
    "        ax=axarr[j,0], color='gray', linestyle='-', linewidth=1.5)\n",
    "\n",
    "j = 0\n",
    "labels.append('KPP-CVMix')\n",
    "for case in ['KPPLT-VR12', 'KPPLT-LF17']:\n",
    "    j += 1\n",
    "    data1 = dataset[case].temp[:,:,0,0]\n",
    "    diff = data1 - data0\n",
    "    diff.attrs['long_name'] = '$\\Delta$ '+ data0.attrs['long_name']\n",
    "    diff.attrs['units'] = data0.attrs['units']\n",
    "    im1 = diff.plot.contourf(ax=axarr[j,1], levels=levels_diff, add_colorbar=False)\n",
    "    labels.append(case+'\\n $-$ KPP-CVMix')\n",
    "    mld_obs.rolling(time=8, center=True).mean().plot(\n",
    "        ax=axarr[j,1], color='gray', linestyle='--', linewidth=1.5)\n",
    "    mld1 = -get_mld_deltaT(data1)\n",
    "    mld1.rolling(time=8, center=True).mean().plot(\n",
    "        ax=axarr[j,1], color='gray', linestyle='-', linewidth=1.5)\n",
    "\n",
    "colors = ['w', 'w', 'k', 'w', 'k', 'k']\n",
    "for j in np.arange(3):\n",
    "    for i in np.arange(2):\n",
    "        k = i*3+j\n",
    "        ax = axarr[j,i]\n",
    "        ax.set_ylim([-100,0])\n",
    "        ax.set_xlabel('')\n",
    "        ax.set_title('')\n",
    "        ax.set_xticks([np.datetime64('1976-04-08'),\n",
    "                       np.datetime64('1976-04-15'),\n",
    "                       np.datetime64('1976-04-22'),\n",
    "                       np.datetime64('1976-04-29'),\n",
    "                       np.datetime64('1976-05-06'),\n",
    "                       np.datetime64('1976-05-13'),\n",
    "                       np.datetime64('1976-05-20'),\n",
    "                       np.datetime64('1976-05-27'),\n",
    "                       np.datetime64('1976-06-03'),\n",
    "                      ])\n",
    "        if i == 0:\n",
    "            ax.set_ylabel('Depth (m)')\n",
    "        else:\n",
    "            ax.set_ylabel('')\n",
    "        ax.text(0.02, 0.95, '('+string.ascii_lowercase[k]+') '+labels[k],\n",
    "                transform=ax.transAxes, fontsize=12, color=colors[k],\n",
    "                va='top', ha='left')\n",
    "    \n",
    "plt.subplots_adjust(top=0.96, bottom=0.1, right=0.85, hspace=0.2, wspace=0.15)\n",
    "\n",
    "label_str = '$T$ ($^\\circ$C)'\n",
    "cax0 = plt.axes([0.8, 0.55, 0.1, 0.4])\n",
    "cax0.set_visible(False)\n",
    "cb0 = plt.colorbar(im0, ax=cax0)\n",
    "cb0.formatter.set_powerlimits((-2, 2)) \n",
    "cb0.update_ticks()\n",
    "cb0.set_label(label_str)\n",
    "cax1 = plt.axes([0.8, 0.1, 0.1, 0.4])\n",
    "cax1.set_visible(False)\n",
    "cb1 = plt.colorbar(im1, ax=cax1)\n",
    "cb1.formatter.set_powerlimits((-2, 2)) \n",
    "cb1.update_ticks()\n",
    "cb1.set_label(r'$\\Delta$ '+label_str)\n",
    "\n",
    "if save_fig:\n",
    "    figname = 'flex_hovmoller.pdf'\n",
    "    fig.savefig(figname, dpi=300)"
   ]
  }
 ],
 "metadata": {
  "kernelspec": {
   "display_name": "Python 3",
   "language": "python",
   "name": "python3"
  },
  "language_info": {
   "codemirror_mode": {
    "name": "ipython",
    "version": 3
   },
   "file_extension": ".py",
   "mimetype": "text/x-python",
   "name": "python",
   "nbconvert_exporter": "python",
   "pygments_lexer": "ipython3",
   "version": "3.9.15"
  }
 },
 "nbformat": 4,
 "nbformat_minor": 4
}

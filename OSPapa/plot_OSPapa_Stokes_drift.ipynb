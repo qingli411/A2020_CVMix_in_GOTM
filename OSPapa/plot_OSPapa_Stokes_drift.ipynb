{
 "cells": [
  {
   "cell_type": "markdown",
   "metadata": {},
   "source": [
    "# Ocean station Papa\n",
    "\n",
    "This notebook compares the Stokes drift profiles of different estimates in the [ocean station Papa](https://www.pmel.noaa.gov/ocs/Papa) case."
   ]
  },
  {
   "cell_type": "code",
   "execution_count": null,
   "metadata": {},
   "outputs": [],
   "source": [
    "import os\n",
    "import sys\n",
    "import numpy as np\n",
    "import string\n",
    "import matplotlib.pyplot as plt\n",
    "# add the path of gotmtool\n",
    "sys.path.append(os.path.join(os.pardir, 'gotmtool'))\n",
    "from gotmtool import *"
   ]
  },
  {
   "cell_type": "markdown",
   "metadata": {},
   "source": [
    "## Load data\n",
    "\n",
    "First, store the information of the four simulations into lists and dictionaries."
   ]
  },
  {
   "cell_type": "code",
   "execution_count": null,
   "metadata": {},
   "outputs": [],
   "source": [
    "casenames = [\n",
    "    'KPP-CVMix',\n",
    "    'KPPLT-VR12',\n",
    "    'KPPLT-LF17',\n",
    "    ]\n",
    "\n",
    "colors = {\n",
    "    'KPP-CVMix': 'tab:olive',\n",
    "    'KPPLT-VR12': 'tab:orange',\n",
    "    'KPPLT-LF17': 'tab:red',\n",
    "    }\n",
    "\n",
    "rundates = {\n",
    "    '2012-03-21': '2012-05-21',\n",
    "    '2012-05-21': '2012-08-21',\n",
    "    '2012-08-21': '2013-01-12',\n",
    "    '2013-01-12': '2013-03-21',\n",
    "    }\n",
    "\n",
    "casedir1 = os.path.join(os.pardir,'gotm', 'run', 'OSPapa')\n",
    "casedir2 = os.path.join(os.pardir,'gotm', 'run', 'OSPapa_theory_wave')\n",
    "casedir3 = os.path.join(os.pardir,'gotm', 'run', 'OSPapa_const_La')\n",
    "save_fig = True"
   ]
  },
  {
   "cell_type": "markdown",
   "metadata": {},
   "source": [
    "Load data for the four simulations and four stages into a dictionary."
   ]
  },
  {
   "cell_type": "code",
   "execution_count": null,
   "metadata": {},
   "outputs": [],
   "source": [
    "def load_data(casedir, casenames):\n",
    "    sims = {}\n",
    "    dataset = {}\n",
    "    for case in casenames:\n",
    "        sims0 = {}\n",
    "        dataset0 = {}\n",
    "        for start in rundates.keys():\n",
    "            end = rundates[start]\n",
    "            sim = Simulation(path=os.path.join(casedir, case+'_'+start+'_'+end))\n",
    "            sims0[start] = sim\n",
    "            dataset0[start] = sim.load_data()\n",
    "        sims[case] = sims0\n",
    "        dataset[case] = dataset0\n",
    "    return sims, dataset\n"
   ]
  },
  {
   "cell_type": "code",
   "execution_count": null,
   "metadata": {},
   "outputs": [],
   "source": [
    "sims1, dataset1 = load_data(casedir1, casenames)\n",
    "sims2, dataset2 = load_data(casedir2, casenames)\n",
    "sims3, dataset3 = load_data(casedir3, casenames)"
   ]
  },
  {
   "cell_type": "markdown",
   "metadata": {},
   "source": [
    "## Figure\n",
    "\n",
    "A comparison of the Stokes drift profiles estimated from the observed wave spectrum in black, \"theory wave\" approach of [Li et al., 2017](https://doi.org/10.1016/j.ocemod.2017.03.016) in blue and an idealized exponential profile with La$_t=0.3$ and $\\delta^S=5$ m in green during the four stages of a seasonal cycle at the Ocean Station Papa."
   ]
  },
  {
   "cell_type": "code",
   "execution_count": null,
   "metadata": {},
   "outputs": [],
   "source": [
    "def plot_pfl_dist(ds, ax, color='tab:blue', label=None):\n",
    "    ds.median(dim='time').plot(\n",
    "        ax=ax, color=color, linestyle='-', y='z', label=label)\n",
    "    q75 = ds.quantile(0.75, dim='time')\n",
    "    q25 = ds.quantile(0.25, dim='time')\n",
    "    q90 = ds.quantile(0.9, dim='time')\n",
    "    q10 = ds.quantile(0.1, dim='time')\n",
    "    z = ds.z\n",
    "    ax.fill_betweenx(z, q10, q90, facecolor=color, edgecolor='none', alpha=0.15)\n",
    "    ax.fill_betweenx(z, q25, q75, facecolor=color, edgecolor='none', alpha=0.3)"
   ]
  },
  {
   "cell_type": "code",
   "execution_count": null,
   "metadata": {
    "scrolled": true
   },
   "outputs": [],
   "source": [
    "fig, axarr = plt.subplots(1,4,sharey='row')\n",
    "fig.set_size_inches([8,3.5])\n",
    "stages = ['I', 'II', 'III', 'IV']\n",
    "for i, start in enumerate(rundates.keys()):\n",
    "    \n",
    "    data1 = dataset1['KPP-CVMix'][start]\n",
    "    data2 = dataset2['KPP-CVMix'][start]\n",
    "    data3 = dataset3['KPP-CVMix'][start]\n",
    "    \n",
    "    color1 = 'k'\n",
    "    us1 = data1.us[:,1:,0,0]\n",
    "    vs1 = data1.vs[:,1:,0,0]\n",
    "    ustar1 = data1.u_taus[1:,0,0]\n",
    "    ustokes1 = np.sqrt(us1**2+vs1**2)/ustar1\n",
    "    plot_pfl_dist(ustokes1, axarr[i], color1, 'Spectrum')\n",
    "    \n",
    "    color2 = 'tab:blue'\n",
    "    us2 = data2.us[:,1:,0,0]\n",
    "    vs2 = data2.vs[:,1:,0,0]\n",
    "    ustar2 = data2.u_taus[1:,0,0]\n",
    "    ustokes2 = np.sqrt(us2**2+vs2**2)/ustar2\n",
    "    plot_pfl_dist(ustokes2, axarr[i], color2, 'Li et al., (2017)')\n",
    "    \n",
    "    color3 = 'tab:green'\n",
    "    us3 = data3.us[:,1:,0,0]\n",
    "    vs3 = data3.vs[:,1:,0,0]\n",
    "    ustar3 = data3.u_taus[1:,0,0]\n",
    "    ustokes3 = np.sqrt(us3**2+vs3**2)/ustar3\n",
    "    plot_pfl_dist(ustokes3, axarr[i], color3, 'Exponential')\n",
    "    \n",
    "    axarr[i].set_xlim([0,12])\n",
    "    axarr[i].set_xlabel(r'$|\\mathbf{u}^S|/u_*$')\n",
    "    axarr[i].set_ylim([-20,0])\n",
    "    axarr[i].set_ylabel('')\n",
    "    axarr[i].set_title(stages[i])\n",
    "    \n",
    "axarr[0].set_ylabel('Depth (m)')\n",
    "# axarr[0].legend(loc='lower right')\n",
    "axarr[0].legend(loc = 'lower left', fontsize=10, ncol=3,\n",
    "                  bbox_to_anchor=(0.75, -0.4), framealpha=1)\n",
    "    \n",
    "if save_fig:\n",
    "    plt.subplots_adjust(top=0.9, bottom=0.28, left=0.1, right=0.96, wspace=0.12)\n",
    "    figname = 'ospapa_pfl_stokes.pdf'\n",
    "    fig.savefig(figname, dpi=300)"
   ]
  }
 ],
 "metadata": {
  "kernelspec": {
   "display_name": "Python 3",
   "language": "python",
   "name": "python3"
  },
  "language_info": {
   "codemirror_mode": {
    "name": "ipython",
    "version": 3
   },
   "file_extension": ".py",
   "mimetype": "text/x-python",
   "name": "python",
   "nbconvert_exporter": "python",
   "pygments_lexer": "ipython3",
   "version": "3.9.15"
  }
 },
 "nbformat": 4,
 "nbformat_minor": 4
}

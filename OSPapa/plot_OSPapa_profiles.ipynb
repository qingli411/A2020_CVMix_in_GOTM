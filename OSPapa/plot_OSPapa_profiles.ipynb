{
 "cells": [
  {
   "cell_type": "markdown",
   "metadata": {},
   "source": [
    "# Ocean station Papa\n",
    "\n",
    "This notebook plots the vertical profiles of the simulated temperature at the end of each stage in the [ocean station Papa](https://www.pmel.noaa.gov/ocs/Papa) case."
   ]
  },
  {
   "cell_type": "code",
   "execution_count": null,
   "metadata": {},
   "outputs": [],
   "source": [
    "import os\n",
    "import sys\n",
    "import numpy as np\n",
    "import string\n",
    "import matplotlib.pyplot as plt\n",
    "# add the path of gotmtool\n",
    "sys.path.append(os.path.join(os.pardir, 'gotmtool'))\n",
    "from gotmtool import *"
   ]
  },
  {
   "cell_type": "markdown",
   "metadata": {},
   "source": [
    "## Load data\n",
    "\n",
    "First, store the information of the four simulations into lists and dictionaries."
   ]
  },
  {
   "cell_type": "code",
   "execution_count": null,
   "metadata": {},
   "outputs": [],
   "source": [
    "casenames = [\n",
    "    'GLS-C01A',\n",
    "    'KPP-CVMix',\n",
    "    'KPPLT-VR12',\n",
    "    'KPPLT-LF17',\n",
    "    ]\n",
    "\n",
    "colors = {\n",
    "    'GLS-C01A': 'tab:blue',\n",
    "    'KPP-CVMix': 'tab:olive',\n",
    "    'KPPLT-VR12': 'tab:orange',\n",
    "    'KPPLT-LF17': 'tab:red',\n",
    "    }\n",
    "\n",
    "rundates = {\n",
    "    '2012-03-21': '2012-05-21',\n",
    "    '2012-05-21': '2012-08-21',\n",
    "    '2012-08-21': '2013-01-12',\n",
    "    '2013-01-12': '2013-03-21',\n",
    "    }\n",
    "\n",
    "casedir = os.path.join(os.pardir,'gotm', 'run', 'OSPapa')\n",
    "save_fig = True"
   ]
  },
  {
   "cell_type": "markdown",
   "metadata": {},
   "source": [
    "Load data for the four simulations and four stages into a dictionary."
   ]
  },
  {
   "cell_type": "code",
   "execution_count": null,
   "metadata": {},
   "outputs": [],
   "source": [
    "sims = {}\n",
    "dataset = {}\n",
    "for case in casenames:\n",
    "    sims0 = {}\n",
    "    dataset0 = {}\n",
    "    for start in rundates.keys():\n",
    "        end = rundates[start]\n",
    "        sim = Simulation(path=os.path.join(casedir, case+'_'+start+'_'+end))\n",
    "        sims0[start] = sim\n",
    "        dataset0[start] = sim.load_data()\n",
    "    sims[case] = sims0\n",
    "    dataset[case] = dataset0"
   ]
  },
  {
   "cell_type": "markdown",
   "metadata": {},
   "source": [
    "## Figure\n",
    "\n",
    "A comparison of the vertical profiles of the daily mean temperature (panels (a)-(d)) and salinity (panels (e)-(h)) at Ocean Station Papa between the observation (black) and GOTM simulations (colored)."
   ]
  },
  {
   "cell_type": "code",
   "execution_count": null,
   "metadata": {},
   "outputs": [],
   "source": [
    "fig, axarr = plt.subplots(2,4, sharey='row')\n",
    "fig.set_size_inches([8,6])\n",
    "for i, start in enumerate(rundates.keys()):\n",
    "    if i == 0:\n",
    "        label = 'Obs'\n",
    "    else:\n",
    "        label = None\n",
    "    data    = dataset['KPP-CVMix'][start]\n",
    "    tpfl_obs =  data.temp_obs[:,-8:,0,0].mean('time')\n",
    "    tpfl_obs.plot(y='z', ax=axarr[0,i], color='k',\n",
    "                  linewidth=1.5)\n",
    "    spfl_obs =  data.salt_obs[:,-8:,0,0].mean('time')\n",
    "    spfl_obs.plot(y='z', ax=axarr[1,i], color='k',\n",
    "                  linewidth=1.5, label=label)\n",
    "    \n",
    "    tpfl_obs =  data.temp_obs[:,0,0,0]\n",
    "    tpfl_obs.plot(y='z', ax=axarr[0,i], color='gray',\n",
    "                  linestyle='--', linewidth=1.5)\n",
    "    spfl_obs =  data.salt_obs[:,0,0,0]\n",
    "    spfl_obs.plot(y='z', ax=axarr[1,i], color='gray',\n",
    "                  linestyle='--', linewidth=1.5)\n",
    "    \n",
    "    for case in casenames:\n",
    "        if i == 0:\n",
    "            label = case\n",
    "        else:\n",
    "            label = None\n",
    "        temp = dataset[case][start].temp[:,-8:,0,0].mean('time')\n",
    "        temp.plot(y='z', ax=axarr[0,i], color=colors[case],\n",
    "                  linewidth=1.5, alpha=0.8)\n",
    "        salt = dataset[case][start].salt[:,-8:,0,0].mean('time')\n",
    "        salt.plot(y='z', ax=axarr[1,i], color=colors[case],\n",
    "                  linewidth=1.5, alpha=0.8, label=label)\n",
    "\n",
    "axarr[1,0].legend(loc = 'lower left', fontsize=10, ncol=5,\n",
    "                  bbox_to_anchor=(-0.04, -0.45), framealpha=1)\n",
    "    \n",
    "for i in np.arange(2):\n",
    "    for j in np.arange(4):\n",
    "        k = i*4+j\n",
    "        ax = axarr[i,j]\n",
    "        ax.set_title('')\n",
    "        ax.set_xlabel('')\n",
    "        ax.set_ylabel('')\n",
    "        ax.set_ylim([-150,0])\n",
    "        if i == 0:\n",
    "            ax.text(0.95, 0.05, '('+string.ascii_lowercase[k]+')',\n",
    "                    transform=ax.transAxes, fontsize=12, va='bottom', ha='right')\n",
    "        else:\n",
    "            ax.text(0.95, 0.95, '('+string.ascii_lowercase[k]+')',\n",
    "                    transform=ax.transAxes, fontsize=12, va='top', ha='right')\n",
    "    axarr[i,0].set_ylabel('Depth (m)')\n",
    "stages = ['I', 'II', 'III', 'IV']\n",
    "for j in np.arange(4):\n",
    "    axarr[0,j].set_title(stages[j])\n",
    "    axarr[0,j].set_xlabel('$T$ ($^\\circ$C)')\n",
    "    axarr[1,j].set_xlabel('$S$ (g kg$^{-1}$)')\n",
    "    \n",
    "axarr[1,0].set_xlim([32.67, 32.95])\n",
    "axarr[1,1].set_xlim([32.53, 32.78])\n",
    "axarr[1,2].set_xlim([32.54, 33.03])\n",
    "axarr[1,3].set_xlim([32.55, 33.03])\n",
    "    \n",
    "if save_fig:\n",
    "    plt.subplots_adjust(top=0.93, bottom=0.17, right=0.95, hspace=0.3, wspace=0.15)\n",
    "    figname = 'ospapa_pfl.pdf'\n",
    "    fig.savefig(figname, dpi=300)"
   ]
  }
 ],
 "metadata": {
  "kernelspec": {
   "display_name": "Python 3",
   "language": "python",
   "name": "python3"
  },
  "language_info": {
   "codemirror_mode": {
    "name": "ipython",
    "version": 3
   },
   "file_extension": ".py",
   "mimetype": "text/x-python",
   "name": "python",
   "nbconvert_exporter": "python",
   "pygments_lexer": "ipython3",
   "version": "3.9.15"
  }
 },
 "nbformat": 4,
 "nbformat_minor": 4
}

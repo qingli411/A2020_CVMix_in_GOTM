{
 "cells": [
  {
   "cell_type": "markdown",
   "metadata": {},
   "source": [
    "# Stokes drift at ocean station Papa\n",
    "\n",
    "This notebook computes Stokes drift from wave spectrum measured at the ocean station Papa. The wave buoy data is obtained from the [Coastal Data Information Program (CDIP)](http://cdip.ucsd.edu/themes/cdip?pb=1&u2=s:166:st:1&d2=p9) [data archive](http://thredds.cdip.ucsd.edu/thredds/catalog/cdip/archive/166p1/catalog.html).\n",
    "\n",
    "Computing Stokes drift for one year at about 30 minutes interval takes about 10 min on a 2017 MacBook Pro."
   ]
  },
  {
   "cell_type": "code",
   "execution_count": null,
   "metadata": {},
   "outputs": [],
   "source": [
    "import sys\n",
    "import os\n",
    "import numpy as np\n",
    "import xarray as xr\n",
    "import pandas as pd\n",
    "from scipy import special\n",
    "sys.path.append(os.path.join(os.pardir, 'gotmtool'))\n",
    "from gotmtool import *\n",
    "from gotmtool.stokesdrift import stokes_drift_spec"
   ]
  },
  {
   "cell_type": "markdown",
   "metadata": {},
   "source": [
    "### Load data"
   ]
  },
  {
   "cell_type": "code",
   "execution_count": null,
   "metadata": {},
   "outputs": [],
   "source": [
    "datapath_wav = os.path.join(os.environ['HOME'], 'data', 'CDIP', 'Papa', '166p1_historic.nc') "
   ]
  },
  {
   "cell_type": "markdown",
   "metadata": {},
   "source": [
    "Select a subset of the data"
   ]
  },
  {
   "cell_type": "code",
   "execution_count": null,
   "metadata": {},
   "outputs": [],
   "source": [
    "startdate = '2012-03-20'\n",
    "enddate = '2013-03-22'\n",
    "dss = xr.open_dataset(datapath_wav).sel(waveTime=slice(startdate, enddate))"
   ]
  },
  {
   "cell_type": "code",
   "execution_count": null,
   "metadata": {},
   "outputs": [],
   "source": [
    "# time\n",
    "time = dss.waveTime.values\n",
    "# band center frequency\n",
    "freq = dss.waveFrequency.values\n",
    "# frequency bandwidth\n",
    "dfreq = dss.waveBandwidth.values\n",
    "# band energy density\n",
    "spec = dss.waveEnergyDensity.values\n",
    "# band mean direction that wave is coming from, in degree clockwise from the North\n",
    "mdir = dss.waveMeanDirection.values\n",
    "# angle in degree counterclockwise from the East\n",
    "theta = -90.0-mdir\n",
    "d2r = np.pi/180.0\n",
    "xcmp = np.cos(theta*d2r)\n",
    "ycmp = np.sin(theta*d2r)"
   ]
  },
  {
   "cell_type": "markdown",
   "metadata": {},
   "source": [
    "### Vertical grid"
   ]
  },
  {
   "cell_type": "code",
   "execution_count": null,
   "metadata": {},
   "outputs": [],
   "source": [
    "z1 = -np.linspace(0.5, 35.5, 36)\n",
    "z2 = -np.linspace(40, 200, 17)\n",
    "z = np.concatenate((z1,z2))\n",
    "zi1 = -np.linspace(1, 36, 36)\n",
    "zi2 = -np.linspace(45, 205, 17)\n",
    "zi = np.concatenate((zi1,zi2))"
   ]
  },
  {
   "cell_type": "markdown",
   "metadata": {},
   "source": [
    "### Compute Stokes drift"
   ]
  },
  {
   "cell_type": "code",
   "execution_count": null,
   "metadata": {},
   "outputs": [],
   "source": [
    "%%time\n",
    "ntime = time.size\n",
    "nz = z.size\n",
    "us0 = np.zeros([ntime])\n",
    "vs0 = np.zeros([ntime])\n",
    "us = np.zeros([ntime, nz])\n",
    "vs = np.zeros([ntime, nz])\n",
    "us_t = np.zeros([ntime, nz])\n",
    "vs_t = np.zeros([ntime, nz])\n",
    "for i in np.arange(ntime):\n",
    "    us0[i], vs0[i] = stokes_drift_spec(np.zeros(1), spec[i,:], xcmp[i,:], ycmp[i,:], freq, dfreq)\n",
    "    us[i,:], vs[i,:] = stokes_drift_spec(z, spec[i,:], xcmp[i,:], ycmp[i,:], freq, dfreq)"
   ]
  },
  {
   "cell_type": "code",
   "execution_count": null,
   "metadata": {},
   "outputs": [],
   "source": [
    "da_time = xr.DataArray(\n",
    "    time,\n",
    "    dims=('time'),\n",
    "    coords={'time': time},\n",
    "    attrs={'long_name': 'UTC sample start time'},\n",
    "    )\n",
    "da_z = xr.DataArray(\n",
    "    z,\n",
    "    dims=('z'),\n",
    "    coords={'z': z},\n",
    "    attrs={'long_name': 'depth', 'units': 'm'},\n",
    "    )\n",
    "da_us0 = xr.DataArray(\n",
    "    us0,\n",
    "    dims=('time'),\n",
    "    coords={'time': da_time},\n",
    "    attrs={'long_name': 'Surface Stokes drift x-component', 'units': 'm/s'},\n",
    "    )\n",
    "da_vs0 = xr.DataArray(\n",
    "    vs0,\n",
    "    dims=('time'),\n",
    "    coords={'time': da_time},\n",
    "    attrs={'long_name': 'Surface Stokes drift y-component', 'units': 'm/s'},\n",
    "    )\n",
    "da_us = xr.DataArray(\n",
    "    us,\n",
    "    dims=('time', 'z'),\n",
    "    coords={'z': da_z, 'time': da_time},\n",
    "    attrs={'long_name': 'Stokes drift x-component', 'units': 'm/s'},\n",
    "    )\n",
    "da_vs = xr.DataArray(\n",
    "    vs,\n",
    "    dims=('time', 'z'),\n",
    "    coords={'z': da_z, 'time': da_time},\n",
    "    attrs={'long_name': 'Stokes drift y-component', 'units': 'm/s'},\n",
    "    )\n",
    "ds_out = da_us.to_dataset(name='us')\n",
    "ds_out['vs'] = da_vs\n",
    "ds_out['us0'] = da_us0\n",
    "ds_out['vs0'] = da_vs0\n",
    "ds_out.to_netcdf('ospapa_stokes_drift.nc')"
   ]
  },
  {
   "cell_type": "markdown",
   "metadata": {},
   "source": [
    "### Convert time from `numpy.datetime64` to `datetime.datetime`"
   ]
  },
  {
   "cell_type": "code",
   "execution_count": null,
   "metadata": {},
   "outputs": [],
   "source": [
    "dttime = [pd.Timestamp(time[i]).to_pydatetime() for i in np.arange(ntime)]"
   ]
  },
  {
   "cell_type": "markdown",
   "metadata": {},
   "source": [
    "### Save Stokes drift to file"
   ]
  },
  {
   "cell_type": "code",
   "execution_count": null,
   "metadata": {},
   "outputs": [],
   "source": [
    "dat_dump_ts(dttime, [us0, vs0], 'us_surface.dat')\n",
    "dat_dump_pfl(dttime, z, [us, vs], 'us_prof.dat')"
   ]
  }
 ],
 "metadata": {
  "kernelspec": {
   "display_name": "Python 3",
   "language": "python",
   "name": "python3"
  },
  "language_info": {
   "codemirror_mode": {
    "name": "ipython",
    "version": 3
   },
   "file_extension": ".py",
   "mimetype": "text/x-python",
   "name": "python",
   "nbconvert_exporter": "python",
   "pygments_lexer": "ipython3",
   "version": "3.9.15"
  }
 },
 "nbformat": 4,
 "nbformat_minor": 4
}

{
 "cells": [
  {
   "cell_type": "markdown",
   "metadata": {},
   "source": [
    "# Ocean station Papa\n",
    "\n",
    "This notebook plots the Hovmoller diagrams of the simulated temperature in the [ocean station Papa](https://www.pmel.noaa.gov/ocs/Papa) case."
   ]
  },
  {
   "cell_type": "code",
   "execution_count": null,
   "metadata": {},
   "outputs": [],
   "source": [
    "import os\n",
    "import sys\n",
    "import numpy as np\n",
    "import string\n",
    "import matplotlib.pyplot as plt\n",
    "# add the path of gotmtool\n",
    "sys.path.append(os.path.join(os.pardir, 'gotmtool'))\n",
    "from gotmtool import *\n",
    "from gotmtool.diags import get_mld_deltaT"
   ]
  },
  {
   "cell_type": "markdown",
   "metadata": {},
   "source": [
    "## Load data\n",
    "\n",
    "First, store the information of the four simulations into lists and dictionaries."
   ]
  },
  {
   "cell_type": "code",
   "execution_count": null,
   "metadata": {},
   "outputs": [],
   "source": [
    "casenames = [\n",
    "    'KPP-CVMix',\n",
    "    'KPPLT-VR12',\n",
    "    'KPPLT-LF17',\n",
    "    'GLS-C01A',\n",
    "    ]\n",
    "\n",
    "rundates = {\n",
    "    '2012-03-21': '2012-05-21',\n",
    "    '2012-05-21': '2012-08-21',\n",
    "    '2012-08-21': '2013-01-12',\n",
    "    '2013-01-12': '2013-03-21',\n",
    "    }\n",
    "\n",
    "casedir = os.path.join(os.pardir,'gotm', 'run', 'OSPapa')\n",
    "save_fig = True"
   ]
  },
  {
   "cell_type": "markdown",
   "metadata": {},
   "source": [
    "Load data for the four simulations and four stages into a dictionary."
   ]
  },
  {
   "cell_type": "code",
   "execution_count": null,
   "metadata": {},
   "outputs": [],
   "source": [
    "sims = {}\n",
    "dataset = {}\n",
    "for case in casenames:\n",
    "    sims0 = {}\n",
    "    dataset0 = {}\n",
    "    for start in rundates.keys():\n",
    "        end = rundates[start]\n",
    "        sim = Simulation(path=os.path.join(casedir, case+'_'+start+'_'+end))\n",
    "        sims0[start] = sim\n",
    "        dataset0[start] = sim.load_data()\n",
    "    sims[case] = sims0\n",
    "    dataset[case] = dataset0"
   ]
  },
  {
   "cell_type": "markdown",
   "metadata": {},
   "source": [
    "## Figure\n",
    "\n",
    "Hovmoller diagrams comparing the simulated temperature between the four vertical mixing schemes."
   ]
  },
  {
   "cell_type": "code",
   "execution_count": null,
   "metadata": {},
   "outputs": [],
   "source": [
    "fig, axarr = plt.subplots(4, sharex='col')\n",
    "fig.set_size_inches([8,6])\n",
    "\n",
    "levels = np.linspace(2.6, 17, 73)\n",
    "levels_diff = np.linspace(-4, 4, 81)\n",
    "for i, start in enumerate(rundates.keys()):\n",
    "    \n",
    "    data0 = dataset['KPP-CVMix'][start].temp[:,:,0,0]\n",
    "    im0 = data0.plot.contourf(ax=axarr[0], levels=levels, add_colorbar=False)\n",
    "    mld0 = -get_mld_deltaT(data0)\n",
    "    mld0.rolling(time=8, center=True).mean().plot(\n",
    "            ax=axarr[0], color='darkgray', linewidth=1, alpha=0.8)\n",
    "    j = 0\n",
    "    labels = ['KPP-CVMix']\n",
    "    for case in casenames:\n",
    "        if case != 'KPP-CVMix':\n",
    "            j += 1\n",
    "            data1 = dataset[case][start].temp[:,:,0,0]\n",
    "            diff = data1 - data0\n",
    "            diff.attrs['long_name'] = '$\\Delta$ '+ data0.attrs['long_name']\n",
    "            diff.attrs['units'] = data0.attrs['units']\n",
    "            im1 = diff.plot.contourf(ax=axarr[j], levels=levels_diff, add_colorbar=False)\n",
    "            mld0.rolling(time=8, center=True).mean().plot(\n",
    "                ax=axarr[j], color='darkgray', linewidth=1, alpha=0.8)\n",
    "            mld1 = -get_mld_deltaT(data1)\n",
    "            mld1.rolling(time=8, center=True).mean().plot(\n",
    "                ax=axarr[j], color='k', linewidth=1, alpha=0.8)\n",
    "            labels.append(case+' $-$ KPP-CVMix')\n",
    "    \n",
    "colors = ['w', 'k', 'k', 'k']\n",
    "for j in np.arange(4):\n",
    "    ax = axarr[j]\n",
    "    ax.set_ylim([-150,0])\n",
    "    ax.set_ylabel('Depth (m)')\n",
    "    ax.set_xlabel('')\n",
    "    ax.set_title('')\n",
    "    ax.text(0.08, 0.05, '('+string.ascii_lowercase[j]+') '+labels[j],\n",
    "            transform=ax.transAxes, color=colors[j],\n",
    "            va='bottom', ha='left')\n",
    "    \n",
    "plt.subplots_adjust(top=0.92, bottom=0.12, right=0.85, hspace=0.2, wspace=0.15)\n",
    "\n",
    "label_str = '$T$ ($^\\circ$C)'\n",
    "cax0 = plt.axes([0.8, 0.54, 0.1, 0.38])\n",
    "cax0.set_visible(False)\n",
    "cb0 = plt.colorbar(im0, ax=cax0)\n",
    "cb0.formatter.set_powerlimits((-2, 2)) \n",
    "cb0.update_ticks()\n",
    "cb0.set_label(label_str)\n",
    "cax1 = plt.axes([0.8, 0.12, 0.1, 0.38])\n",
    "cax1.set_visible(False)\n",
    "cb1 = plt.colorbar(im1, ax=cax1)\n",
    "cb1.formatter.set_powerlimits((-2, 2)) \n",
    "cb1.update_ticks()\n",
    "cb1.set_label(r'$\\Delta$ '+label_str)\n",
    "\n",
    "axarr[0].text(0.083, 1.05, 'I', transform=axarr[0].transAxes,\n",
    "              fontsize=12, va='bottom', ha='center')\n",
    "axarr[0].text(0.29, 1.05, 'II', transform=axarr[0].transAxes,\n",
    "              fontsize=12, va='bottom', ha='center')\n",
    "axarr[0].text(0.625, 1.05, 'III', transform=axarr[0].transAxes,\n",
    "              fontsize=12, va='bottom', ha='center')\n",
    "axarr[0].text(0.917, 1.05, 'IV', transform=axarr[0].transAxes,\n",
    "              fontsize=12, va='bottom', ha='center')\n",
    "\n",
    "startdate = list(rundates.keys())\n",
    "for i, ax in enumerate(axarr):\n",
    "    if i == 0:\n",
    "        cl = 'gray'\n",
    "    else:\n",
    "        cl = 'lightgray'\n",
    "    ax.axvline(np.datetime64(startdate[1]), color=cl, linewidth=0.75)\n",
    "    ax.axvline(np.datetime64(startdate[2]), color=cl, linewidth=0.75)\n",
    "    ax.axvline(np.datetime64(startdate[3]), color=cl, linewidth=0.75)\n",
    "\n",
    "if save_fig:\n",
    "    figname = 'ospapa_hovmoller.pdf'\n",
    "    fig.savefig(figname, dpi=300)"
   ]
  }
 ],
 "metadata": {
  "kernelspec": {
   "display_name": "Python 3",
   "language": "python",
   "name": "python3"
  },
  "language_info": {
   "codemirror_mode": {
    "name": "ipython",
    "version": 3
   },
   "file_extension": ".py",
   "mimetype": "text/x-python",
   "name": "python",
   "nbconvert_exporter": "python",
   "pygments_lexer": "ipython3",
   "version": "3.9.15"
  }
 },
 "nbformat": 4,
 "nbformat_minor": 4
}

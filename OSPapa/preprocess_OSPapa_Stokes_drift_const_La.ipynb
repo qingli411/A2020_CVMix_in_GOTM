{
 "cells": [
  {
   "cell_type": "markdown",
   "metadata": {},
   "source": [
    "# Stokes drift at ocean station Papa\n",
    "\n",
    "This notebook computes the surface Stokes drift from the momentum fluxes assuming a constant Langmuir number."
   ]
  },
  {
   "cell_type": "code",
   "execution_count": null,
   "metadata": {},
   "outputs": [],
   "source": [
    "import sys\n",
    "import os\n",
    "import numpy as np\n",
    "import xarray as xr\n",
    "import pandas as pd\n",
    "sys.path.append(os.path.join(os.pardir, 'gotmtool'))\n",
    "from gotmtool import *"
   ]
  },
  {
   "cell_type": "markdown",
   "metadata": {},
   "source": [
    "### Load data"
   ]
  },
  {
   "cell_type": "code",
   "execution_count": null,
   "metadata": {},
   "outputs": [],
   "source": [
    "paparoot = os.path.join(os.environ['HOME'], 'data', 'OCS', 'Papa', 'Papa_20100616-20150101')\n",
    "startdate = '2012-03-20'\n",
    "enddate = '2013-03-22'\n",
    "La_turb = 0.31\n",
    "rho = 1027."
   ]
  },
  {
   "cell_type": "markdown",
   "metadata": {},
   "source": [
    "### Compute Stokes drift"
   ]
  },
  {
   "cell_type": "code",
   "execution_count": null,
   "metadata": {},
   "outputs": [],
   "source": [
    "# load momentum flux input data\n",
    "fname = 'tau50n145w_hr.cdf'\n",
    "ds = xr.load_dataset(os.path.join(paparoot, fname)).sel(time=slice(startdate, enddate))\n",
    "if '_FillValue' in ds.attrs:\n",
    "    skipvalue = ds.attrs['_FillValue']\n",
    "elif 'missing_value' in ds.attrs:\n",
    "    skipvalue = ds.attrs['missing_value']\n",
    "else:\n",
    "    skipvalue = None\n",
    "time = ds.time.values\n",
    "ntime = time.size\n",
    "dttime = [pd.Timestamp(time[i]).to_pydatetime() for i in np.arange(ntime)]\n",
    "# vector variable\n",
    "vnamex = 'TX_442'\n",
    "vnamey = 'TY_443'\n",
    "datax = ds.data_vars[vnamex].values.squeeze()\n",
    "datay = ds.data_vars[vnamey].values.squeeze()\n",
    "us0 = np.sign(datax)*np.sqrt(np.abs(datax)/rho)*La_turb**(-2)\n",
    "vs0 = np.sign(datay)*np.sqrt(np.abs(datay)/rho)*La_turb**(-2)\n",
    "us0[datax==skipvalue] = np.nan\n",
    "vs0[datay==skipvalue] = np.nan"
   ]
  },
  {
   "cell_type": "markdown",
   "metadata": {},
   "source": [
    "### Save Stokes drift to file"
   ]
  },
  {
   "cell_type": "code",
   "execution_count": null,
   "metadata": {},
   "outputs": [],
   "source": [
    "dat_dump_ts(dttime, [us0, vs0], 'ospapa_us0_La0p{:d}.dat'.format(int(La_turb*100))\n",
    "            , skip_value=np.nan)"
   ]
  }
 ],
 "metadata": {
  "kernelspec": {
   "display_name": "Python 3",
   "language": "python",
   "name": "python3"
  },
  "language_info": {
   "codemirror_mode": {
    "name": "ipython",
    "version": 3
   },
   "file_extension": ".py",
   "mimetype": "text/x-python",
   "name": "python",
   "nbconvert_exporter": "python",
   "pygments_lexer": "ipython3",
   "version": "3.9.15"
  }
 },
 "nbformat": 4,
 "nbformat_minor": 4
}
